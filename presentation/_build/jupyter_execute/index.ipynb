{
 "cells": [
  {
   "cell_type": "markdown",
   "id": "d60808b173ca9c4e",
   "metadata": {},
   "source": [
    "# Список лабораторных работ\n",
    "- [Методы нулевого порядка](lab-1/отчёт.ipynb)\n",
    "- [Методы первого и высших порядков](lab-2/отчёт.ipynb)\n",
    "- [Метод стохастического градиентного спуска (SGD) и его модификации](lab-3/отчёт.ipynb)\n",
    "- [Test](test/test.ipynb)\n",
    "\n",
    "**Исходный код:** [Github](https://github.com/Skorniakov-Leonid/Methods-of-optimization)\n",
    "\n",
    "**Авторы:** Забейворота Кирилл, Корнилович Михаил, Скорняков Леонид\n",
    "\n",
    "ФИТиП, Университет ИТМО"
   ]
  },
  {
   "cell_type": "code",
   "execution_count": null,
   "id": "6b730d919e30eaa9",
   "metadata": {},
   "outputs": [],
   "source": []
  }
 ],
 "metadata": {
  "kernelspec": {
   "display_name": "Python 3",
   "language": "python",
   "name": "python3"
  },
  "language_info": {
   "codemirror_mode": {
    "name": "ipython",
    "version": 3
   },
   "file_extension": ".py",
   "mimetype": "text/x-python",
   "name": "python",
   "nbconvert_exporter": "python",
   "pygments_lexer": "ipython3",
   "version": "3.9.6"
  }
 },
 "nbformat": 4,
 "nbformat_minor": 5
}