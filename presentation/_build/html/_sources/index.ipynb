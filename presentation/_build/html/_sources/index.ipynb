{
 "cells": [
  {
   "metadata": {},
   "cell_type": "markdown",
   "source": [
    "# Список лабораторных работ\n",
    "- [Методы нулевого порядка](lab-1/отчёт.ipynb)\n",
    "- [Методы первого и высших порядков](lab-2/отчёт.ipynb)\n",
    "- [Метод стохастического градиентного спуска (SGD) и его модификации](lab-3/отчёт.ipynb)\n",
    "\n",
    "**Исходный код:** [Github](https://github.com/Skorniakov-Leonid/Methods-of-optimization)\n",
    "\n",
    "**Авторы:** Забейворота Кирилл, Корнилович Михаил, Скорняков Леонид\n",
    "\n",
    "ФИТиП, Университет ИТМО"
   ],
   "id": "d60808b173ca9c4e"
  },
  {
   "metadata": {},
   "cell_type": "code",
   "outputs": [],
   "execution_count": null,
   "source": "",
   "id": "6b730d919e30eaa9"
  }
 ],
 "metadata": {
  "kernelspec": {
   "display_name": "Python 3",
   "language": "python",
   "name": "python3"
  },
  "language_info": {
   "codemirror_mode": {
    "name": "ipython",
    "version": 2
   },
   "file_extension": ".py",
   "mimetype": "text/x-python",
   "name": "python",
   "nbconvert_exporter": "python",
   "pygments_lexer": "ipython2",
   "version": "2.7.6"
  }
 },
 "nbformat": 4,
 "nbformat_minor": 5
}
