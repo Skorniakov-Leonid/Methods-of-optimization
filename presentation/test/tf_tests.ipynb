{
 "cells": [
  {
   "cell_type": "code",
   "execution_count": 19,
   "id": "initial_id",
   "metadata": {
    "collapsed": true,
    "ExecuteTime": {
     "end_time": "2024-05-21T16:09:05.662421Z",
     "start_time": "2024-05-21T16:09:05.649413Z"
    }
   },
   "outputs": [],
   "source": [
    "import tensorflow as tf\n",
    "import matplotlib.pyplot as plt\n",
    "import random\n",
    "import numpy as np"
   ]
  },
  {
   "cell_type": "code",
   "outputs": [],
   "source": [
    "def gen_classes(class_num, per_class, lower_b, upper_b):\n",
    "    res = []\n",
    "    class_areas = []\n",
    "    for i in range(class_num):\n",
    "        temp_class = []\n",
    "        low_b = lower_b + i * (upper_b - lower_b) / class_num\n",
    "        high_b = lower_b + (i + 1) * (upper_b - lower_b) / class_num\n",
    "        #class_areas += [random.uniform(, ), random.uniform()]\n",
    "        for j in range(per_class):\n",
    "            temp_class += [[random.uniform(lower_b, high_b), random.uniform(low_b, high_b), i]]\n",
    "        res += [temp_class]\n",
    "    return res\n",
    "def get_data(temp, dim):\n",
    "    x = []\n",
    "    y = []\n",
    "    for j in temp[dim]:\n",
    "        x += [j[0]]\n",
    "        y += [j[1]]\n",
    "    return x, y\n",
    "temp = gen_classes(2, 100, 0, 1000)"
   ],
   "metadata": {
    "collapsed": false,
    "ExecuteTime": {
     "end_time": "2024-05-21T16:06:05.102397Z",
     "start_time": "2024-05-21T16:06:05.085288Z"
    }
   },
   "id": "84e8cd4c610ce2f4",
   "execution_count": 8
  },
  {
   "cell_type": "code",
   "outputs": [
    {
     "data": {
      "text/plain": "<Figure size 640x480 with 1 Axes>",
      "image/png": "[encoded data removed]"
     },
     "metadata": {},
     "output_type": "display_data"
    }
   ],
   "source": [
    "n_temp = []\n",
    "for i in temp:\n",
    "    n_temp += i\n",
    "x, y = get_data(temp, 0)\n",
    "axes = plt.figure().add_subplot()\n",
    "axes.scatter(x, y, c =\"green\")\n",
    "x, y = get_data(temp, 1)\n",
    "axes.scatter(x, y, c = \"yellow\") \n",
    "plt.show()"
   ],
   "metadata": {
    "collapsed": false,
    "ExecuteTime": {
     "end_time": "2024-05-21T16:16:14.217001Z",
     "start_time": "2024-05-21T16:16:14.007Z"
    }
   },
   "id": "98a82a7868bab044",
   "execution_count": 35
  },
  {
   "cell_type": "code",
   "outputs": [],
   "source": [
    "x_train = []\n",
    "y_train = []\n",
    "ans = [[1, 0], [0, 1]]\n",
    "for i in n_temp:\n",
    "    x_train += [i[0:2]]\n",
    "    y_train += [ans[i[2]]]"
   ],
   "metadata": {
    "collapsed": false,
    "ExecuteTime": {
     "end_time": "2024-05-21T16:47:36.095509Z",
     "start_time": "2024-05-21T16:47:36.083503Z"
    }
   },
   "id": "70d64553c4054f1",
   "execution_count": 120
  },
  {
   "cell_type": "code",
   "outputs": [],
   "source": [
    "model = tf.keras.Sequential([\n",
    "    tf.keras.layers.Dense(1, activation=\"relu\", input_shape = (2,)),\n",
    "    tf.keras.layers.Dense(2, activation=\"softmax\")\n",
    "])\n",
    "model.compile(optimizer='sgd',\n",
    "              loss=tf.keras.losses.BinaryCrossentropy(),\n",
    "              metrics=['accuracy'])"
   ],
   "metadata": {
    "collapsed": false,
    "ExecuteTime": {
     "end_time": "2024-05-21T16:47:36.220663Z",
     "start_time": "2024-05-21T16:47:36.194667Z"
    }
   },
   "id": "9eb02d62201fae2c",
   "execution_count": 121
  },
  {
   "cell_type": "code",
   "outputs": [
    {
     "name": "stdout",
     "output_type": "stream",
     "text": [
      "Epoch 1/5\n",
      "\u001B[1m7/7\u001B[0m \u001B[32m━━━━━━━━━━━━━━━━━━━━\u001B[0m\u001B[37m\u001B[0m \u001B[1m0s\u001B[0m 1ms/step - accuracy: 0.5840 - loss: 0.6031 \n",
      "Epoch 2/5\n",
      "\u001B[1m7/7\u001B[0m \u001B[32m━━━━━━━━━━━━━━━━━━━━\u001B[0m\u001B[37m\u001B[0m \u001B[1m0s\u001B[0m 1ms/step - accuracy: 0.5962 - loss: 0.5836 \n",
      "Epoch 3/5\n",
      "\u001B[1m7/7\u001B[0m \u001B[32m━━━━━━━━━━━━━━━━━━━━\u001B[0m\u001B[37m\u001B[0m \u001B[1m0s\u001B[0m 1ms/step - accuracy: 0.5514 - loss: 0.6104 \n",
      "Epoch 4/5\n",
      "\u001B[1m7/7\u001B[0m \u001B[32m━━━━━━━━━━━━━━━━━━━━\u001B[0m\u001B[37m\u001B[0m \u001B[1m0s\u001B[0m 1ms/step - accuracy: 0.5431 - loss: 0.5707 \n",
      "Epoch 5/5\n",
      "\u001B[1m7/7\u001B[0m \u001B[32m━━━━━━━━━━━━━━━━━━━━\u001B[0m\u001B[37m\u001B[0m \u001B[1m0s\u001B[0m 998us/step - accuracy: 0.6299 - loss: 0.5792\n"
     ]
    },
    {
     "data": {
      "text/plain": "<keras.src.callbacks.history.History at 0x194d7445fd0>"
     },
     "execution_count": 125,
     "metadata": {},
     "output_type": "execute_result"
    }
   ],
   "source": [
    "model.fit(np.array(x_train), np.array(y_train), epochs=5, batch_size=30)"
   ],
   "metadata": {
    "collapsed": false,
    "ExecuteTime": {
     "end_time": "2024-05-21T16:47:44.086717Z",
     "start_time": "2024-05-21T16:47:43.894708Z"
    }
   },
   "id": "e227d57be3aad285",
   "execution_count": 125
  },
  {
   "cell_type": "code",
   "outputs": [],
   "source": [],
   "metadata": {
    "collapsed": false
   },
   "id": "de8547620a6093b"
  }
 ],
 "metadata": {
  "kernelspec": {
   "display_name": "Python 3",
   "language": "python",
   "name": "python3"
  },
  "language_info": {
   "codemirror_mode": {
    "name": "ipython",
    "version": 2
   },
   "file_extension": ".py",
   "mimetype": "text/x-python",
   "name": "python",
   "nbconvert_exporter": "python",
   "pygments_lexer": "ipython2",
   "version": "2.7.6"
  }
 },
 "nbformat": 4,
 "nbformat_minor": 5
}
