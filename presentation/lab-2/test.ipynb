{
 "cells": [
  {
   "cell_type": "code",
   "execution_count": 1,
   "id": "f3bb5c1dff32577d",
   "metadata": {
    "collapsed": false,
    "ExecuteTime": {
     "end_time": "2024-04-09T07:12:37.527387Z",
     "start_time": "2024-04-09T07:12:36.553734Z"
    }
   },
   "outputs": [],
   "source": [
    "%matplotlib widget\n",
    "\n",
    "import matplotlib.pyplot as plt\n",
    "import numpy as np\n",
    "\n",
    "from src.v2.impl.conditions import StepCountCondition, PrecisionCondition, AbsolutePrecisionCondition\n",
    "from src.v2.impl.methods import CoordinateDescent, GoldenRatioMethod\n",
    "from src.v2.impl.metrics import StepCount, CallCount, GradientCallCount, HessianCallCount, PrecisionCount, \\\n",
    "    AbsolutePrecisionCount, AbsolutePrecision, MinAbsolutePrecision\n",
    "from src.v2.impl.oraculs import LambdaOracul, SymbolOracul\n",
    "from src.v2.runner.debug import FULL_DEBUG\n",
    "from src.v2.runner.runner import Runner, FULL_VISUALIZE, NO_VISUALIZE\n",
    "from src.v2.visualization.animation import Animator, FULL_ANIMATION"
   ]
  },
  {
   "cell_type": "code",
   "execution_count": 2,
   "id": "77cdbed64e600e34",
   "metadata": {
    "collapsed": false,
    "ExecuteTime": {
     "end_time": "2024-04-09T07:12:37.655387Z",
     "start_time": "2024-04-09T07:12:37.529386Z"
    }
   },
   "outputs": [
    {
     "name": "stdout",
     "output_type": "stream",
     "text": [
      "============ Testing CoordinateDescent(300) ============\n",
      "[INFO][Condition][AbsolutePrecisionCondition(precision=0.001)] Condition reached!\n",
      "[INFO][Method][CoordinateDescent(300)] Completed!\n",
      "============ Testing GradientDescent(300,GoldenRatioMethod,eps=0.0001) ============\n",
      "============ Testing GoldenRatioMethod ============\n",
      "[INFO][Condition][PrecisionCondition(precision=0.0001)] Condition reached!\n",
      "[INFO][Method][GoldenRatioMethod] Completed!\n",
      "[INFO][Condition][AbsolutePrecisionCondition(precision=0.001)] Condition reached!\n",
      "[INFO][Method][GradientDescent(300,GoldenRatioMethod,eps=0.0001)] Completed!\n",
      "============ Testing NewtonBase(1) ============\n",
      "[INFO][Condition][AbsolutePrecisionCondition(precision=0.001)] Condition reached!\n",
      "[INFO][Method][NewtonBase(1)] Completed!\n",
      "============ Testing Newton(2,GoldenRatioMethod,eps=0.0001) ============\n",
      "============ Testing GoldenRatioMethod ============\n",
      "[INFO][Condition][PrecisionCondition(precision=0.0001)] Condition reached!\n",
      "[INFO][Method][GoldenRatioMethod] Completed!\n",
      "[INFO][Condition][AbsolutePrecisionCondition(precision=0.001)] Condition reached!\n",
      "[INFO][Method][Newton(2,GoldenRatioMethod,eps=0.0001)] Completed!\n",
      "============ Testing CoordinateDescent(300) ============\n",
      "[INFO][Condition][AbsolutePrecisionCondition(precision=0.001)] Condition reached!\n",
      "[INFO][Method][CoordinateDescent(300)] Completed!\n",
      "============ Testing GradientDescent(300,GoldenRatioMethod,eps=0.0001) ============\n",
      "============ Testing GoldenRatioMethod ============\n",
      "[INFO][Condition][PrecisionCondition(precision=0.0001)] Condition reached!\n",
      "[INFO][Method][GoldenRatioMethod] Completed!\n",
      "[INFO][Condition][AbsolutePrecisionCondition(precision=0.001)] Condition reached!\n",
      "[INFO][Method][GradientDescent(300,GoldenRatioMethod,eps=0.0001)] Completed!\n",
      "============ Testing NewtonBase(1) ============\n",
      "[INFO][Condition][AbsolutePrecisionCondition(precision=0.001)] Condition reached!\n",
      "[INFO][Method][NewtonBase(1)] Completed!\n",
      "============ Testing Newton(2,GoldenRatioMethod,eps=0.0001) ============\n",
      "============ Testing GoldenRatioMethod ============\n",
      "[INFO][Condition][PrecisionCondition(precision=0.0001)] Condition reached!\n",
      "[INFO][Method][GoldenRatioMethod] Completed!\n",
      "[INFO][Condition][AbsolutePrecisionCondition(precision=0.001)] Condition reached!\n",
      "[INFO][Method][Newton(2,GoldenRatioMethod,eps=0.0001)] Completed!\n",
      "\n",
      "LambdaOracul\n",
      "+---------------------------------------------------+-------------+-------------+---------------------+--------------------+---------------------+---------------------------------+---------------------+------------------------+\n",
      "| Method name                                       |   StepCount |   CallCount |   GradientCallCount |   HessianCallCount | PrecisionCount(1)   |   AbsolutePrecisionCount(0.001) |   AbsolutePrecision |   MinAbsolutePrecision |\n",
      "+===================================================+=============+=============+=====================+====================+=====================+=================================+=====================+========================+\n",
      "| CoordinateDescent(300)                            |           9 |          43 |                   0 |                  0 | Undefined           |                               8 |         0           |            0           |\n",
      "+---------------------------------------------------+-------------+-------------+---------------------+--------------------+---------------------+---------------------------------+---------------------+------------------------+\n",
      "| GradientDescent(300,GoldenRatioMethod,eps=0.0001) |           2 |          33 |                   1 |                  0 | Undefined           |                               1 |         2.23983e-05 |            2.23983e-05 |\n",
      "+---------------------------------------------------+-------------+-------------+---------------------+--------------------+---------------------+---------------------------------+---------------------+------------------------+\n",
      "| NewtonBase(1)                                     |           2 |           0 |                   1 |                  1 | Undefined           |                               1 |         7.15742e-12 |            7.15742e-12 |\n",
      "+---------------------------------------------------+-------------+-------------+---------------------+--------------------+---------------------+---------------------------------+---------------------+------------------------+\n",
      "| Newton(2,GoldenRatioMethod,eps=0.0001)            |           2 |          23 |                   1 |                  1 | Undefined           |                               1 |         7.15742e-12 |            7.15742e-12 |\n",
      "+---------------------------------------------------+-------------+-------------+---------------------+--------------------+---------------------+---------------------------------+---------------------+------------------------+\n",
      "\n",
      "SymbolOracul\n",
      "+---------------------------------------------------+-------------+-------------+---------------------+--------------------+---------------------+---------------------------------+---------------------+------------------------+\n",
      "| Method name                                       |   StepCount |   CallCount |   GradientCallCount |   HessianCallCount | PrecisionCount(1)   |   AbsolutePrecisionCount(0.001) |   AbsolutePrecision |   MinAbsolutePrecision |\n",
      "+===================================================+=============+=============+=====================+====================+=====================+=================================+=====================+========================+\n",
      "| CoordinateDescent(300)                            |           9 |          43 |                   0 |                  0 | Undefined           |                               8 |         0           |            0           |\n",
      "+---------------------------------------------------+-------------+-------------+---------------------+--------------------+---------------------+---------------------------------+---------------------+------------------------+\n",
      "| GradientDescent(300,GoldenRatioMethod,eps=0.0001) |           2 |          33 |                   1 |                  0 | Undefined           |                               1 |         2.23983e-05 |            2.23983e-05 |\n",
      "+---------------------------------------------------+-------------+-------------+---------------------+--------------------+---------------------+---------------------------------+---------------------+------------------------+\n",
      "| NewtonBase(1)                                     |           2 |           0 |                   1 |                  1 | Undefined           |                               1 |         0           |            0           |\n",
      "+---------------------------------------------------+-------------+-------------+---------------------+--------------------+---------------------+---------------------------------+---------------------+------------------------+\n",
      "| Newton(2,GoldenRatioMethod,eps=0.0001)            |           2 |          23 |                   1 |                  1 | Undefined           |                               1 |         2.92964e-14 |            2.92964e-14 |\n",
      "+---------------------------------------------------+-------------+-------------+---------------------+--------------------+---------------------+---------------------------------+---------------------+------------------------+\n"
     ]
    }
   ],
   "source": [
    "from src.v2.runner.runner import TABLE\n",
    "from src.v2.impl.methods import GradientDescent, NewtonBase, Newton\n",
    "import sympy\n",
    "\n",
    "sx, sy, sz = sympy.symbols('x y z')\n",
    "lmb = lambda x, y: (x - 10) ** 2 + (y - 5) ** 2\n",
    "oracul = LambdaOracul(lmb)\n",
    "symOracul = SymbolOracul((sx - 10) ** 2 + (sy - 5) ** 2, ['x', 'y'])\n",
    "\n",
    "min_point = np.array([10, 5])\n",
    "\n",
    "animations = [Animator()]\n",
    "metrics = [StepCount(), CallCount(), GradientCallCount(), HessianCallCount(), PrecisionCount(1),\n",
    "           AbsolutePrecisionCount(0.001, min_point), AbsolutePrecision(min_point),\n",
    "           MinAbsolutePrecision(min_point)]\n",
    "conditions = [StepCountCondition(50), PrecisionCondition(0.0001),\n",
    "              AbsolutePrecisionCondition(0.001, min_point)]\n",
    "\n",
    "modules = animations + metrics + conditions\n",
    "\n",
    "methods = [CoordinateDescent(),\n",
    "           GradientDescent(),\n",
    "           NewtonBase(),\n",
    "           Newton(learning_rate=2)]\n",
    "oraculs = [oracul, symOracul]\n",
    "point = np.array([126, 30])\n",
    "\n",
    "result = Runner.run(methods, oraculs, point, modules, **TABLE, **NO_VISUALIZE, **FULL_ANIMATION)\n",
    "\n",
    "plt.show()"
   ]
  },
  {
   "cell_type": "code",
   "execution_count": 3,
   "id": "28ae699a-063f-40c4-89e2-c040f8e0b962",
   "metadata": {
    "ExecuteTime": {
     "end_time": "2024-04-09T07:12:37.671424Z",
     "start_time": "2024-04-09T07:12:37.656386Z"
    }
   },
   "outputs": [],
   "source": [
    "#Тормозит\n",
    "#Неудобный вывод таблиц\n",
    "#Нужно отключение вывода полное\n",
    "#Невозможна визуализация без анимации\n",
    "#Флажок visualize делает что-то не то\n"
   ]
  },
  {
   "cell_type": "code",
   "outputs": [],
   "source": [],
   "metadata": {
    "collapsed": false,
    "ExecuteTime": {
     "end_time": "2024-04-09T07:12:37.687559Z",
     "start_time": "2024-04-09T07:12:37.673286Z"
    }
   },
   "id": "7a4798c33e197b0",
   "execution_count": 3
  }
 ],
 "metadata": {
  "kernelspec": {
   "display_name": "Python 3 (ipykernel)",
   "language": "python",
   "name": "python3"
  },
  "language_info": {
   "codemirror_mode": {
    "name": "ipython",
    "version": 3
   },
   "file_extension": ".py",
   "mimetype": "text/x-python",
   "name": "python",
   "nbconvert_exporter": "python",
   "pygments_lexer": "ipython3",
   "version": "3.10.6"
  }
 },
 "nbformat": 4,
 "nbformat_minor": 5
}
