{
 "cells": [
  {
   "cell_type": "code",
   "id": "initial_id",
   "metadata": {
    "collapsed": true,
    "ExecuteTime": {
     "end_time": "2024-06-05T11:00:42.651427Z",
     "start_time": "2024-06-05T11:00:42.647762Z"
    }
   },
   "source": [
    "import optuna\n",
    "optuna.logging.disable_default_handler()\n",
    "\n",
    "def add_study(fn, name):\n",
    "    study = optuna.create_study(\n",
    "        direction=\"minimize\",\n",
    "        storage=\"sqlite:///db.sqlite3\",\n",
    "        study_name=name\n",
    "    )\n",
    "    study.optimize(fn, n_trials=200)\n",
    "    print(f\"Best value: {study.best_value} (params: {study.best_params})\")"
   ],
   "outputs": [],
   "execution_count": 7
  },
  {
   "metadata": {
    "ExecuteTime": {
     "end_time": "2024-06-05T11:00:45.787852Z",
     "start_time": "2024-06-05T11:00:42.655617Z"
    }
   },
   "cell_type": "code",
   "source": [
    " def example1(trial):\n",
    "    x = trial.suggest_float(\"x\", -100, 100)\n",
    "    y = trial.suggest_float(\"y\", -100, 100)\n",
    "    return x**2 + y**2\n",
    "\n",
    "\n",
    "add_study(example1, \"Test 1\") # OK"
   ],
   "id": "aaae80ce37c14187",
   "outputs": [
    {
     "name": "stdout",
     "output_type": "stream",
     "text": [
      "Best value: 0.20703704622868585 (params: {'x': -0.4507518227240368, 'y': -0.06212761495216412})\n"
     ]
    }
   ],
   "execution_count": 8
  },
  {
   "metadata": {
    "ExecuteTime": {
     "end_time": "2024-06-05T11:00:48.833540Z",
     "start_time": "2024-06-05T11:00:45.788789Z"
    }
   },
   "cell_type": "code",
   "source": [
    "def example2(trial):\n",
    "    x = trial.suggest_float(\"x\", -100, 100)\n",
    "    y = trial.suggest_float(\"y\", -100, 100)\n",
    "    return 1000 * (x - 10) ** 10 + 100 * (y + 20) ** 10\n",
    "add_study(example2, \"Test 2\") # OK"
   ],
   "id": "c7b68aff7501211f",
   "outputs": [
    {
     "name": "stdout",
     "output_type": "stream",
     "text": [
      "Best value: 32.07507143516409 (params: {'x': 10.574947241432184, 'y': -19.119125950781388})\n"
     ]
    }
   ],
   "execution_count": 9
  },
  {
   "metadata": {
    "ExecuteTime": {
     "end_time": "2024-06-05T11:00:50.904494Z",
     "start_time": "2024-06-05T11:00:48.834219Z"
    }
   },
   "cell_type": "code",
   "source": [
    "from numpy import cos, exp, pi\n",
    "def example3(trial):\n",
    "    x = trial.suggest_float(\"x\", 100, 100)\n",
    "    y = trial.suggest_float(\"y\", 100, 100)\n",
    "    return -cos(x) * cos(y) * exp(-((x - pi) ** 2 + (y - pi) ** 2))\n",
    "add_study(example3, \"Test 3\") # no global minimum"
   ],
   "id": "21844eb2bc92c421",
   "outputs": [
    {
     "name": "stdout",
     "output_type": "stream",
     "text": [
      "Best value: 0.0 (params: {'x': 100.0, 'y': 100.0})\n"
     ]
    }
   ],
   "execution_count": 10
  },
  {
   "metadata": {
    "ExecuteTime": {
     "end_time": "2024-06-05T11:00:53.987569Z",
     "start_time": "2024-06-05T11:00:50.905726Z"
    }
   },
   "cell_type": "code",
   "source": [
    "from numpy import cos, sin\n",
    "def example4(trial):\n",
    "    x = trial.suggest_float(\"x\", -100, 100)\n",
    "    y = trial.suggest_float(\"y\", -100, 100)\n",
    "    return sin(3 / 5 * pi * x) ** 2 + (x / 5 - 1) ** 2 * (1 + sin(3 * pi * y / 5) ** 2) + (y / 5 - 1) ** 2 * (1 + sin(2 * pi * y / 5)**2)\n",
    "\n",
    "add_study(example4, \"Test 4\") "
   ],
   "id": "c5113d8a5938110f",
   "outputs": [
    {
     "name": "stdout",
     "output_type": "stream",
     "text": [
      "Best value: 0.01404441958189792 (params: {'x': 4.972685238973462, 'y': 5.46614774150794})\n"
     ]
    }
   ],
   "execution_count": 11
  },
  {
   "metadata": {
    "ExecuteTime": {
     "end_time": "2024-06-05T11:00:57.170537Z",
     "start_time": "2024-06-05T11:00:53.988298Z"
    }
   },
   "cell_type": "code",
   "source": [
    "from numpy import arctan, pi\n",
    "\n",
    "def example5(trial):\n",
    "    x = trial.suggest_float(\"x\", -100, 100)\n",
    "    y = trial.suggest_float(\"y\", -100, 100)\n",
    "    return (arctan(x + 2 * y) - (pi / 2 - arctan(x - y))) ** 2\n",
    "\n",
    "add_study(example5, \"Test 5\") # OK"
   ],
   "id": "2e790b2ab6ec819",
   "outputs": [
    {
     "name": "stdout",
     "output_type": "stream",
     "text": [
      "Best value: 0.01924926495426973 (params: {'x': 89.88905790222024, 'y': 90.02492193201206})\n"
     ]
    }
   ],
   "execution_count": 12
  },
  {
   "metadata": {
    "ExecuteTime": {
     "end_time": "2024-06-05T11:00:57.172477Z",
     "start_time": "2024-06-05T11:00:57.171245Z"
    }
   },
   "cell_type": "code",
   "source": "",
   "id": "c7b10f0cdd40a134",
   "outputs": [],
   "execution_count": 12
  }
 ],
 "metadata": {
  "kernelspec": {
   "display_name": "Python 3",
   "language": "python",
   "name": "python3"
  },
  "language_info": {
   "codemirror_mode": {
    "name": "ipython",
    "version": 2
   },
   "file_extension": ".py",
   "mimetype": "text/x-python",
   "name": "python",
   "nbconvert_exporter": "python",
   "pygments_lexer": "ipython2",
   "version": "2.7.6"
  }
 },
 "nbformat": 4,
 "nbformat_minor": 5
}
