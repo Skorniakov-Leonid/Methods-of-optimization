{
 "cells": [
  {
   "cell_type": "code",
   "id": "initial_id",
   "metadata": {
    "ExecuteTime": {
     "end_time": "2024-04-17T10:54:54.908192Z",
     "start_time": "2024-04-17T10:54:54.454416Z"
    }
   },
   "source": [
    "import matplotlib.pyplot as plt\n",
    "import numpy as np\n",
    "import sympy\n",
    "from src.v2.impl.conditions import StepCountCondition, PrecisionCondition, AbsolutePrecisionCondition\n",
    "from src.v2.impl.methods import CoordinateDescent, GoldenRatioMethod\n",
    "from src.v2.impl.metrics import StepCount, CallCount, GradientCallCount, HessianCallCount, PrecisionCount, \\\n",
    "    AbsolutePrecisionCount, AbsolutePrecision, MinAbsolutePrecision\n",
    "from src.v2.impl.oraculs import LambdaOracul, SymbolOracul\n",
    "from src.v2.runner.debug import FULL_DEBUG\n",
    "from src.v2.runner.runner import Runner, FULL_VISUALIZE, NO_VISUALIZE\n",
    "from src.v2.visualization.animation import Animator, FULL_ANIMATION\n",
    "from src.v2.runner.runner import TABLE\n",
    "from src.v2.impl.methods import GradientDescent, ScipyMethod, Newton, NewtonBase\n",
    "from IPython.display import display, HTML"
   ],
   "outputs": [],
   "execution_count": 1
  },
  {
   "cell_type": "code",
   "id": "8a8b4080cc0d9e5a",
   "metadata": {
    "collapsed": false,
    "ExecuteTime": {
     "end_time": "2024-04-17T10:54:54.920407Z",
     "start_time": "2024-04-17T10:54:54.913807Z"
    }
   },
   "source": [
    "from sympy import diff, symbols\n",
    "\n",
    "diff(symbols('x y'), symbols('x')) == diff(symbols('y x'), symbols('x'))"
   ],
   "outputs": [
    {
     "data": {
      "text/plain": [
       "False"
      ]
     },
     "execution_count": 2,
     "metadata": {},
     "output_type": "execute_result"
    }
   ],
   "execution_count": 2
  },
  {
   "cell_type": "code",
   "id": "41d41cf4859b3d33",
   "metadata": {
    "collapsed": false,
    "ExecuteTime": {
     "end_time": "2024-04-17T10:54:54.977408Z",
     "start_time": "2024-04-17T10:54:54.922598Z"
    }
   },
   "source": [
    "x, y, z = symbols('x y z')\n",
    "expr = x**3 + 4*x*y - z\n",
    "type(expr)"
   ],
   "outputs": [
    {
     "data": {
      "text/plain": [
       "sympy.core.add.Add"
      ]
     },
     "execution_count": 3,
     "metadata": {},
     "output_type": "execute_result"
    }
   ],
   "execution_count": 3
  },
  {
   "cell_type": "code",
   "id": "b46bdfff447ae523",
   "metadata": {
    "collapsed": false,
    "ExecuteTime": {
     "end_time": "2024-04-17T10:54:55.012061Z",
     "start_time": "2024-04-17T10:54:54.980161Z"
    }
   },
   "source": [
    "from src.common import Point\n",
    "from src.common.oracul import SymbolOracul, GradientLambdaOracul\n",
    "\n",
    "x, y, z  = symbols('x y z')\n",
    "expr = x * 0.26 * (x ** 2 + y ** 2) - 0.48 * x * y \n",
    "test = SymbolOracul(expr, ['x', 'y'])\n",
    "base_differential = GradientLambdaOracul(lambda x, y: 0.26 * (x ** 2 + y ** 2) - 0.48 * x * y,\n",
    "                                         lambda x, y: np.array([0.52 * x - 0.48 * y, 0.52 * y - 0.48 * x],\n",
    "                                                               dtype=np.float64))"
   ],
   "outputs": [],
   "execution_count": 4
  },
  {
   "cell_type": "code",
   "id": "8bba0ae7c6409435",
   "metadata": {
    "collapsed": false,
    "ExecuteTime": {
     "end_time": "2024-04-17T10:54:55.030347Z",
     "start_time": "2024-04-17T10:54:55.020837Z"
    }
   },
   "source": [
    "test.evaluate_hessian(Point(np.array([1, 2, 3])))"
   ],
   "outputs": [
    {
     "data": {
      "text/plain": [
       "array([[1.56, 0.56],\n",
       "       [0.56, 0.52]])"
      ]
     },
     "execution_count": 5,
     "metadata": {},
     "output_type": "execute_result"
    }
   ],
   "execution_count": 5
  },
  {
   "cell_type": "code",
   "source": [
    "from src.v2.impl.methods import Wolfe\n",
    "#self.c1 = params[\"c1\"]\n",
    "#        self.c2 = params[\"c2\"]\n",
    " #       self.eps = params[\"aprox_dec\"]\n",
    "  #      self.max_iters = params[\"max_iters\"]\n",
    "wolfe = Wolfe(c1=0.1, c2=0.2, aprox_dec=1e-11, max_iters=20)"
   ],
   "metadata": {
    "collapsed": false,
    "ExecuteTime": {
     "end_time": "2024-04-17T10:54:55.040056Z",
     "start_time": "2024-04-17T10:54:55.032575Z"
    }
   },
   "id": "772af2c5f4a37590",
   "outputs": [],
   "execution_count": 6
  },
  {
   "cell_type": "code",
   "source": [
    "\n",
    "from src.v2.impl.oraculs import LambdaOracul\n",
    "#bad_defined_absolute = SymbolOracul(1000 * (x - 100) ** 10 + 100 * (y + 20) ** 10, ['x', 'y'])\n",
    "bad_defined = LambdaOracul(lambda x, y: 1000 * (np.float64(x) - 100) ** 10 + 100 * (np.float64(y) + 20) ** 10)\n",
    "min_point = np.array([100, -20])\n",
    "metrics = [StepCount(), CallCount(), GradientCallCount(), HessianCallCount(),\n",
    "           AbsolutePrecisionCount(0.001, min_point),\n",
    "           MinAbsolutePrecision(min_point)]\n",
    "conditions = [StepCountCondition(1000), PrecisionCondition(0.00001)]\n",
    "#AbsolutePrecisionCondition(0.0001, min_point)            \n",
    "animations = [Animator()]\n",
    "\n",
    "modules = animations + metrics + conditions\n",
    "methods2 = [\n",
    "    Newton(method=wolfe, aprox_dec=1e-14)\n",
    "]\n",
    "oraculs = [bad_defined]\n",
    "point = np.array([-100, -200])\n",
    "result = Runner.run(methods2, oraculs, point, modules, precision=1e-5, **TABLE, **NO_VISUALIZE)"
   ],
   "metadata": {
    "collapsed": false,
    "ExecuteTime": {
     "end_time": "2024-04-17T10:54:55.375916Z",
     "start_time": "2024-04-17T10:54:55.041754Z"
    }
   },
   "id": "ba7f36ae1b226bb5",
   "outputs": [
    {
     "name": "stderr",
     "output_type": "stream",
     "text": [
      "/var/folders/rk/1r8z07916sx4rm892vz8d6z40000gn/T/ipykernel_6637/2812856080.py:3: RuntimeWarning: overflow encountered in scalar power\n",
      "  bad_defined = LambdaOracul(lambda x, y: 1000 * (np.float64(x) - 100) ** 10 + 100 * (np.float64(y) + 20) ** 10)\n",
      "/Users/mike/Documents/Methods-of-optimization/venv/lib/python3.9/site-packages/numpy/lib/nanfunctions.py:1563: RuntimeWarning: All-NaN slice encountered\n",
      "  return function_base._ureduce(a,\n",
      "/Users/mike/Documents/Methods-of-optimization/venv/lib/python3.9/site-packages/numdifftools/limits.py:150: UserWarning: All-NaN slice encountered\n",
      "  warnings.warn(str(msg))\n",
      "/var/folders/rk/1r8z07916sx4rm892vz8d6z40000gn/T/ipykernel_6637/2812856080.py:3: RuntimeWarning: overflow encountered in scalar power\n",
      "  bad_defined = LambdaOracul(lambda x, y: 1000 * (np.float64(x) - 100) ** 10 + 100 * (np.float64(y) + 20) ** 10)\n",
      "/Users/mike/Documents/Methods-of-optimization/venv/lib/python3.9/site-packages/numpy/lib/nanfunctions.py:1563: RuntimeWarning: All-NaN slice encountered\n",
      "  return function_base._ureduce(a,\n",
      "/Users/mike/Documents/Methods-of-optimization/venv/lib/python3.9/site-packages/numdifftools/limits.py:150: UserWarning: All-NaN slice encountered\n",
      "  warnings.warn(str(msg))\n",
      "/var/folders/rk/1r8z07916sx4rm892vz8d6z40000gn/T/ipykernel_6637/2812856080.py:3: RuntimeWarning: overflow encountered in scalar power\n",
      "  bad_defined = LambdaOracul(lambda x, y: 1000 * (np.float64(x) - 100) ** 10 + 100 * (np.float64(y) + 20) ** 10)\n",
      "/Users/mike/Documents/Methods-of-optimization/venv/lib/python3.9/site-packages/numpy/lib/nanfunctions.py:1563: RuntimeWarning: All-NaN slice encountered\n",
      "  return function_base._ureduce(a,\n",
      "/Users/mike/Documents/Methods-of-optimization/venv/lib/python3.9/site-packages/numdifftools/limits.py:150: UserWarning: All-NaN slice encountered\n",
      "  warnings.warn(str(msg))\n",
      "/var/folders/rk/1r8z07916sx4rm892vz8d6z40000gn/T/ipykernel_6637/2812856080.py:3: RuntimeWarning: overflow encountered in scalar power\n",
      "  bad_defined = LambdaOracul(lambda x, y: 1000 * (np.float64(x) - 100) ** 10 + 100 * (np.float64(y) + 20) ** 10)\n",
      "/Users/mike/Documents/Methods-of-optimization/venv/lib/python3.9/site-packages/numpy/lib/nanfunctions.py:1563: RuntimeWarning: All-NaN slice encountered\n",
      "  return function_base._ureduce(a,\n",
      "/Users/mike/Documents/Methods-of-optimization/venv/lib/python3.9/site-packages/numdifftools/limits.py:150: UserWarning: All-NaN slice encountered\n",
      "  warnings.warn(str(msg))\n",
      "/var/folders/rk/1r8z07916sx4rm892vz8d6z40000gn/T/ipykernel_6637/2812856080.py:3: RuntimeWarning: overflow encountered in scalar power\n",
      "  bad_defined = LambdaOracul(lambda x, y: 1000 * (np.float64(x) - 100) ** 10 + 100 * (np.float64(y) + 20) ** 10)\n",
      "/Users/mike/Documents/Methods-of-optimization/venv/lib/python3.9/site-packages/numpy/lib/nanfunctions.py:1563: RuntimeWarning: All-NaN slice encountered\n",
      "  return function_base._ureduce(a,\n",
      "/Users/mike/Documents/Methods-of-optimization/venv/lib/python3.9/site-packages/numdifftools/limits.py:150: UserWarning: All-NaN slice encountered\n",
      "  warnings.warn(str(msg))\n",
      "/var/folders/rk/1r8z07916sx4rm892vz8d6z40000gn/T/ipykernel_6637/2812856080.py:3: RuntimeWarning: overflow encountered in scalar power\n",
      "  bad_defined = LambdaOracul(lambda x, y: 1000 * (np.float64(x) - 100) ** 10 + 100 * (np.float64(y) + 20) ** 10)\n",
      "/Users/mike/Documents/Methods-of-optimization/venv/lib/python3.9/site-packages/numpy/lib/nanfunctions.py:1563: RuntimeWarning: All-NaN slice encountered\n",
      "  return function_base._ureduce(a,\n",
      "/Users/mike/Documents/Methods-of-optimization/venv/lib/python3.9/site-packages/numdifftools/limits.py:150: UserWarning: All-NaN slice encountered\n",
      "  warnings.warn(str(msg))\n",
      "/var/folders/rk/1r8z07916sx4rm892vz8d6z40000gn/T/ipykernel_6637/2812856080.py:3: RuntimeWarning: overflow encountered in scalar power\n",
      "  bad_defined = LambdaOracul(lambda x, y: 1000 * (np.float64(x) - 100) ** 10 + 100 * (np.float64(y) + 20) ** 10)\n",
      "/Users/mike/Documents/Methods-of-optimization/venv/lib/python3.9/site-packages/numpy/lib/nanfunctions.py:1563: RuntimeWarning: All-NaN slice encountered\n",
      "  return function_base._ureduce(a,\n",
      "/Users/mike/Documents/Methods-of-optimization/venv/lib/python3.9/site-packages/numdifftools/limits.py:150: UserWarning: All-NaN slice encountered\n",
      "  warnings.warn(str(msg))\n",
      "/var/folders/rk/1r8z07916sx4rm892vz8d6z40000gn/T/ipykernel_6637/2812856080.py:3: RuntimeWarning: overflow encountered in scalar power\n",
      "  bad_defined = LambdaOracul(lambda x, y: 1000 * (np.float64(x) - 100) ** 10 + 100 * (np.float64(y) + 20) ** 10)\n",
      "/Users/mike/Documents/Methods-of-optimization/venv/lib/python3.9/site-packages/numpy/lib/nanfunctions.py:1563: RuntimeWarning: All-NaN slice encountered\n",
      "  return function_base._ureduce(a,\n",
      "/Users/mike/Documents/Methods-of-optimization/venv/lib/python3.9/site-packages/numdifftools/limits.py:150: UserWarning: All-NaN slice encountered\n",
      "  warnings.warn(str(msg))\n",
      "/var/folders/rk/1r8z07916sx4rm892vz8d6z40000gn/T/ipykernel_6637/2812856080.py:3: RuntimeWarning: overflow encountered in scalar power\n",
      "  bad_defined = LambdaOracul(lambda x, y: 1000 * (np.float64(x) - 100) ** 10 + 100 * (np.float64(y) + 20) ** 10)\n",
      "/Users/mike/Documents/Methods-of-optimization/venv/lib/python3.9/site-packages/numpy/lib/nanfunctions.py:1563: RuntimeWarning: All-NaN slice encountered\n",
      "  return function_base._ureduce(a,\n",
      "/Users/mike/Documents/Methods-of-optimization/venv/lib/python3.9/site-packages/numdifftools/limits.py:150: UserWarning: All-NaN slice encountered\n",
      "  warnings.warn(str(msg))\n",
      "/var/folders/rk/1r8z07916sx4rm892vz8d6z40000gn/T/ipykernel_6637/2812856080.py:3: RuntimeWarning: overflow encountered in scalar power\n",
      "  bad_defined = LambdaOracul(lambda x, y: 1000 * (np.float64(x) - 100) ** 10 + 100 * (np.float64(y) + 20) ** 10)\n",
      "/Users/mike/Documents/Methods-of-optimization/venv/lib/python3.9/site-packages/numpy/lib/nanfunctions.py:1563: RuntimeWarning: All-NaN slice encountered\n",
      "  return function_base._ureduce(a,\n",
      "/Users/mike/Documents/Methods-of-optimization/venv/lib/python3.9/site-packages/numdifftools/limits.py:150: UserWarning: All-NaN slice encountered\n",
      "  warnings.warn(str(msg))\n",
      "/var/folders/rk/1r8z07916sx4rm892vz8d6z40000gn/T/ipykernel_6637/2812856080.py:3: RuntimeWarning: overflow encountered in scalar power\n",
      "  bad_defined = LambdaOracul(lambda x, y: 1000 * (np.float64(x) - 100) ** 10 + 100 * (np.float64(y) + 20) ** 10)\n",
      "/Users/mike/Documents/Methods-of-optimization/venv/lib/python3.9/site-packages/numpy/lib/nanfunctions.py:1563: RuntimeWarning: All-NaN slice encountered\n",
      "  return function_base._ureduce(a,\n",
      "/Users/mike/Documents/Methods-of-optimization/venv/lib/python3.9/site-packages/numdifftools/limits.py:150: UserWarning: All-NaN slice encountered\n",
      "  warnings.warn(str(msg))\n",
      "/var/folders/rk/1r8z07916sx4rm892vz8d6z40000gn/T/ipykernel_6637/2812856080.py:3: RuntimeWarning: overflow encountered in scalar power\n",
      "  bad_defined = LambdaOracul(lambda x, y: 1000 * (np.float64(x) - 100) ** 10 + 100 * (np.float64(y) + 20) ** 10)\n",
      "/Users/mike/Documents/Methods-of-optimization/venv/lib/python3.9/site-packages/numpy/lib/nanfunctions.py:1563: RuntimeWarning: All-NaN slice encountered\n",
      "  return function_base._ureduce(a,\n",
      "/Users/mike/Documents/Methods-of-optimization/venv/lib/python3.9/site-packages/numdifftools/limits.py:150: UserWarning: All-NaN slice encountered\n",
      "  warnings.warn(str(msg))\n",
      "/var/folders/rk/1r8z07916sx4rm892vz8d6z40000gn/T/ipykernel_6637/2812856080.py:3: RuntimeWarning: overflow encountered in scalar power\n",
      "  bad_defined = LambdaOracul(lambda x, y: 1000 * (np.float64(x) - 100) ** 10 + 100 * (np.float64(y) + 20) ** 10)\n",
      "/Users/mike/Documents/Methods-of-optimization/venv/lib/python3.9/site-packages/numpy/lib/nanfunctions.py:1563: RuntimeWarning: All-NaN slice encountered\n",
      "  return function_base._ureduce(a,\n",
      "/Users/mike/Documents/Methods-of-optimization/venv/lib/python3.9/site-packages/numdifftools/limits.py:150: UserWarning: All-NaN slice encountered\n",
      "  warnings.warn(str(msg))\n",
      "/var/folders/rk/1r8z07916sx4rm892vz8d6z40000gn/T/ipykernel_6637/2812856080.py:3: RuntimeWarning: overflow encountered in scalar power\n",
      "  bad_defined = LambdaOracul(lambda x, y: 1000 * (np.float64(x) - 100) ** 10 + 100 * (np.float64(y) + 20) ** 10)\n",
      "/Users/mike/Documents/Methods-of-optimization/venv/lib/python3.9/site-packages/numpy/lib/nanfunctions.py:1563: RuntimeWarning: All-NaN slice encountered\n",
      "  return function_base._ureduce(a,\n",
      "/Users/mike/Documents/Methods-of-optimization/venv/lib/python3.9/site-packages/numdifftools/limits.py:150: UserWarning: All-NaN slice encountered\n",
      "  warnings.warn(str(msg))\n",
      "/var/folders/rk/1r8z07916sx4rm892vz8d6z40000gn/T/ipykernel_6637/2812856080.py:3: RuntimeWarning: overflow encountered in scalar power\n",
      "  bad_defined = LambdaOracul(lambda x, y: 1000 * (np.float64(x) - 100) ** 10 + 100 * (np.float64(y) + 20) ** 10)\n",
      "/Users/mike/Documents/Methods-of-optimization/venv/lib/python3.9/site-packages/numpy/lib/nanfunctions.py:1563: RuntimeWarning: All-NaN slice encountered\n",
      "  return function_base._ureduce(a,\n",
      "/Users/mike/Documents/Methods-of-optimization/venv/lib/python3.9/site-packages/numdifftools/limits.py:150: UserWarning: All-NaN slice encountered\n",
      "  warnings.warn(str(msg))\n",
      "/var/folders/rk/1r8z07916sx4rm892vz8d6z40000gn/T/ipykernel_6637/2812856080.py:3: RuntimeWarning: overflow encountered in scalar power\n",
      "  bad_defined = LambdaOracul(lambda x, y: 1000 * (np.float64(x) - 100) ** 10 + 100 * (np.float64(y) + 20) ** 10)\n",
      "/Users/mike/Documents/Methods-of-optimization/venv/lib/python3.9/site-packages/numpy/lib/nanfunctions.py:1563: RuntimeWarning: All-NaN slice encountered\n",
      "  return function_base._ureduce(a,\n",
      "/Users/mike/Documents/Methods-of-optimization/venv/lib/python3.9/site-packages/numdifftools/limits.py:150: UserWarning: All-NaN slice encountered\n",
      "  warnings.warn(str(msg))\n",
      "/var/folders/rk/1r8z07916sx4rm892vz8d6z40000gn/T/ipykernel_6637/2812856080.py:3: RuntimeWarning: overflow encountered in scalar power\n",
      "  bad_defined = LambdaOracul(lambda x, y: 1000 * (np.float64(x) - 100) ** 10 + 100 * (np.float64(y) + 20) ** 10)\n",
      "/Users/mike/Documents/Methods-of-optimization/venv/lib/python3.9/site-packages/numpy/lib/nanfunctions.py:1563: RuntimeWarning: All-NaN slice encountered\n",
      "  return function_base._ureduce(a,\n",
      "/Users/mike/Documents/Methods-of-optimization/venv/lib/python3.9/site-packages/numdifftools/limits.py:150: UserWarning: All-NaN slice encountered\n",
      "  warnings.warn(str(msg))\n",
      "/var/folders/rk/1r8z07916sx4rm892vz8d6z40000gn/T/ipykernel_6637/2812856080.py:3: RuntimeWarning: overflow encountered in scalar power\n",
      "  bad_defined = LambdaOracul(lambda x, y: 1000 * (np.float64(x) - 100) ** 10 + 100 * (np.float64(y) + 20) ** 10)\n",
      "/Users/mike/Documents/Methods-of-optimization/venv/lib/python3.9/site-packages/numpy/lib/nanfunctions.py:1563: RuntimeWarning: All-NaN slice encountered\n",
      "  return function_base._ureduce(a,\n",
      "/Users/mike/Documents/Methods-of-optimization/venv/lib/python3.9/site-packages/numdifftools/limits.py:150: UserWarning: All-NaN slice encountered\n",
      "  warnings.warn(str(msg))\n",
      "/var/folders/rk/1r8z07916sx4rm892vz8d6z40000gn/T/ipykernel_6637/2812856080.py:3: RuntimeWarning: overflow encountered in scalar power\n",
      "  bad_defined = LambdaOracul(lambda x, y: 1000 * (np.float64(x) - 100) ** 10 + 100 * (np.float64(y) + 20) ** 10)\n",
      "/Users/mike/Documents/Methods-of-optimization/venv/lib/python3.9/site-packages/numpy/lib/nanfunctions.py:1563: RuntimeWarning: All-NaN slice encountered\n",
      "  return function_base._ureduce(a,\n",
      "/Users/mike/Documents/Methods-of-optimization/venv/lib/python3.9/site-packages/numdifftools/limits.py:150: UserWarning: All-NaN slice encountered\n",
      "  warnings.warn(str(msg))\n",
      "/var/folders/rk/1r8z07916sx4rm892vz8d6z40000gn/T/ipykernel_6637/2812856080.py:3: RuntimeWarning: overflow encountered in scalar power\n",
      "  bad_defined = LambdaOracul(lambda x, y: 1000 * (np.float64(x) - 100) ** 10 + 100 * (np.float64(y) + 20) ** 10)\n",
      "/Users/mike/Documents/Methods-of-optimization/venv/lib/python3.9/site-packages/numpy/lib/nanfunctions.py:1563: RuntimeWarning: All-NaN slice encountered\n",
      "  return function_base._ureduce(a,\n",
      "/Users/mike/Documents/Methods-of-optimization/venv/lib/python3.9/site-packages/numdifftools/limits.py:150: UserWarning: All-NaN slice encountered\n",
      "  warnings.warn(str(msg))\n",
      "/var/folders/rk/1r8z07916sx4rm892vz8d6z40000gn/T/ipykernel_6637/2812856080.py:3: RuntimeWarning: overflow encountered in scalar power\n",
      "  bad_defined = LambdaOracul(lambda x, y: 1000 * (np.float64(x) - 100) ** 10 + 100 * (np.float64(y) + 20) ** 10)\n",
      "/Users/mike/Documents/Methods-of-optimization/venv/lib/python3.9/site-packages/numpy/lib/nanfunctions.py:1563: RuntimeWarning: All-NaN slice encountered\n",
      "  return function_base._ureduce(a,\n",
      "/Users/mike/Documents/Methods-of-optimization/venv/lib/python3.9/site-packages/numdifftools/limits.py:150: UserWarning: All-NaN slice encountered\n",
      "  warnings.warn(str(msg))\n",
      "/var/folders/rk/1r8z07916sx4rm892vz8d6z40000gn/T/ipykernel_6637/2812856080.py:3: RuntimeWarning: overflow encountered in scalar power\n",
      "  bad_defined = LambdaOracul(lambda x, y: 1000 * (np.float64(x) - 100) ** 10 + 100 * (np.float64(y) + 20) ** 10)\n",
      "/Users/mike/Documents/Methods-of-optimization/venv/lib/python3.9/site-packages/numpy/lib/nanfunctions.py:1563: RuntimeWarning: All-NaN slice encountered\n",
      "  return function_base._ureduce(a,\n",
      "/Users/mike/Documents/Methods-of-optimization/venv/lib/python3.9/site-packages/numdifftools/limits.py:150: UserWarning: All-NaN slice encountered\n",
      "  warnings.warn(str(msg))\n"
     ]
    },
    {
     "ename": "IndexError",
     "evalue": "list index out of range",
     "output_type": "error",
     "traceback": [
      "\u001B[0;31m---------------------------------------------------------------------------\u001B[0m",
      "\u001B[0;31mIndexError\u001B[0m                                Traceback (most recent call last)",
      "Cell \u001B[0;32mIn[7], line 18\u001B[0m\n\u001B[1;32m     16\u001B[0m oraculs \u001B[38;5;241m=\u001B[39m [bad_defined]\n\u001B[1;32m     17\u001B[0m point \u001B[38;5;241m=\u001B[39m np\u001B[38;5;241m.\u001B[39marray([\u001B[38;5;241m-\u001B[39m\u001B[38;5;241m100\u001B[39m, \u001B[38;5;241m-\u001B[39m\u001B[38;5;241m200\u001B[39m])\n\u001B[0;32m---> 18\u001B[0m result \u001B[38;5;241m=\u001B[39m \u001B[43mRunner\u001B[49m\u001B[38;5;241;43m.\u001B[39;49m\u001B[43mrun\u001B[49m\u001B[43m(\u001B[49m\u001B[43mmethods2\u001B[49m\u001B[43m,\u001B[49m\u001B[43m \u001B[49m\u001B[43moraculs\u001B[49m\u001B[43m,\u001B[49m\u001B[43m \u001B[49m\u001B[43mpoint\u001B[49m\u001B[43m,\u001B[49m\u001B[43m \u001B[49m\u001B[43mmodules\u001B[49m\u001B[43m,\u001B[49m\u001B[43m \u001B[49m\u001B[43mprecision\u001B[49m\u001B[38;5;241;43m=\u001B[39;49m\u001B[38;5;241;43m1e-5\u001B[39;49m\u001B[43m,\u001B[49m\u001B[43m \u001B[49m\u001B[38;5;241;43m*\u001B[39;49m\u001B[38;5;241;43m*\u001B[39;49m\u001B[43mTABLE\u001B[49m\u001B[43m,\u001B[49m\u001B[43m \u001B[49m\u001B[38;5;241;43m*\u001B[39;49m\u001B[38;5;241;43m*\u001B[39;49m\u001B[43mNO_VISUALIZE\u001B[49m\u001B[43m)\u001B[49m\n",
      "File \u001B[0;32m~/Documents/Methods-of-optimization/src/v2/runner/runner.py:51\u001B[0m, in \u001B[0;36mRunner.run\u001B[0;34m(methods, oraculs, point, modules, **params)\u001B[0m\n\u001B[1;32m     48\u001B[0m \u001B[38;5;129m@staticmethod\u001B[39m\n\u001B[1;32m     49\u001B[0m \u001B[38;5;28;01mdef\u001B[39;00m \u001B[38;5;21mrun\u001B[39m(methods: \u001B[38;5;28mlist\u001B[39m[OptimizationMethod], oraculs: \u001B[38;5;28mlist\u001B[39m[Oracul], point: np\u001B[38;5;241m.\u001B[39mndarray,\n\u001B[1;32m     50\u001B[0m         modules: \u001B[38;5;28mlist\u001B[39m[PipelineModule], \u001B[38;5;241m*\u001B[39m\u001B[38;5;241m*\u001B[39mparams) \u001B[38;5;241m-\u001B[39m\u001B[38;5;241m>\u001B[39m \u001B[38;5;28mlist\u001B[39m[\u001B[38;5;28mlist\u001B[39m[\u001B[38;5;28mlist\u001B[39m[\u001B[38;5;28mtuple\u001B[39m[\u001B[38;5;28mstr\u001B[39m, Any]]]]:\n\u001B[0;32m---> 51\u001B[0m     data \u001B[38;5;241m=\u001B[39m [[Runner\u001B[38;5;241m.\u001B[39mrun_pipeline(method, oracul, point, modules, \u001B[38;5;241m*\u001B[39m\u001B[38;5;241m*\u001B[39mparams) \u001B[38;5;28;01mfor\u001B[39;00m method \u001B[38;5;129;01min\u001B[39;00m methods]\n\u001B[1;32m     52\u001B[0m             \u001B[38;5;28;01mfor\u001B[39;00m oracul \u001B[38;5;129;01min\u001B[39;00m oraculs]\n\u001B[1;32m     53\u001B[0m     \u001B[38;5;28;01mreturn\u001B[39;00m [Runner\u001B[38;5;241m.\u001B[39minfo(oracul, table, \u001B[38;5;241m*\u001B[39m\u001B[38;5;241m*\u001B[39mparams) \u001B[38;5;28;01mfor\u001B[39;00m oracul, table \u001B[38;5;129;01min\u001B[39;00m \u001B[38;5;28mzip\u001B[39m(oraculs, data)]\n",
      "File \u001B[0;32m~/Documents/Methods-of-optimization/src/v2/runner/runner.py:51\u001B[0m, in \u001B[0;36m<listcomp>\u001B[0;34m(.0)\u001B[0m\n\u001B[1;32m     48\u001B[0m \u001B[38;5;129m@staticmethod\u001B[39m\n\u001B[1;32m     49\u001B[0m \u001B[38;5;28;01mdef\u001B[39;00m \u001B[38;5;21mrun\u001B[39m(methods: \u001B[38;5;28mlist\u001B[39m[OptimizationMethod], oraculs: \u001B[38;5;28mlist\u001B[39m[Oracul], point: np\u001B[38;5;241m.\u001B[39mndarray,\n\u001B[1;32m     50\u001B[0m         modules: \u001B[38;5;28mlist\u001B[39m[PipelineModule], \u001B[38;5;241m*\u001B[39m\u001B[38;5;241m*\u001B[39mparams) \u001B[38;5;241m-\u001B[39m\u001B[38;5;241m>\u001B[39m \u001B[38;5;28mlist\u001B[39m[\u001B[38;5;28mlist\u001B[39m[\u001B[38;5;28mlist\u001B[39m[\u001B[38;5;28mtuple\u001B[39m[\u001B[38;5;28mstr\u001B[39m, Any]]]]:\n\u001B[0;32m---> 51\u001B[0m     data \u001B[38;5;241m=\u001B[39m [[Runner\u001B[38;5;241m.\u001B[39mrun_pipeline(method, oracul, point, modules, \u001B[38;5;241m*\u001B[39m\u001B[38;5;241m*\u001B[39mparams) \u001B[38;5;28;01mfor\u001B[39;00m method \u001B[38;5;129;01min\u001B[39;00m methods]\n\u001B[1;32m     52\u001B[0m             \u001B[38;5;28;01mfor\u001B[39;00m oracul \u001B[38;5;129;01min\u001B[39;00m oraculs]\n\u001B[1;32m     53\u001B[0m     \u001B[38;5;28;01mreturn\u001B[39;00m [Runner\u001B[38;5;241m.\u001B[39minfo(oracul, table, \u001B[38;5;241m*\u001B[39m\u001B[38;5;241m*\u001B[39mparams) \u001B[38;5;28;01mfor\u001B[39;00m oracul, table \u001B[38;5;129;01min\u001B[39;00m \u001B[38;5;28mzip\u001B[39m(oraculs, data)]\n",
      "File \u001B[0;32m~/Documents/Methods-of-optimization/src/v2/runner/runner.py:51\u001B[0m, in \u001B[0;36m<listcomp>\u001B[0;34m(.0)\u001B[0m\n\u001B[1;32m     48\u001B[0m \u001B[38;5;129m@staticmethod\u001B[39m\n\u001B[1;32m     49\u001B[0m \u001B[38;5;28;01mdef\u001B[39;00m \u001B[38;5;21mrun\u001B[39m(methods: \u001B[38;5;28mlist\u001B[39m[OptimizationMethod], oraculs: \u001B[38;5;28mlist\u001B[39m[Oracul], point: np\u001B[38;5;241m.\u001B[39mndarray,\n\u001B[1;32m     50\u001B[0m         modules: \u001B[38;5;28mlist\u001B[39m[PipelineModule], \u001B[38;5;241m*\u001B[39m\u001B[38;5;241m*\u001B[39mparams) \u001B[38;5;241m-\u001B[39m\u001B[38;5;241m>\u001B[39m \u001B[38;5;28mlist\u001B[39m[\u001B[38;5;28mlist\u001B[39m[\u001B[38;5;28mlist\u001B[39m[\u001B[38;5;28mtuple\u001B[39m[\u001B[38;5;28mstr\u001B[39m, Any]]]]:\n\u001B[0;32m---> 51\u001B[0m     data \u001B[38;5;241m=\u001B[39m [[\u001B[43mRunner\u001B[49m\u001B[38;5;241;43m.\u001B[39;49m\u001B[43mrun_pipeline\u001B[49m\u001B[43m(\u001B[49m\u001B[43mmethod\u001B[49m\u001B[43m,\u001B[49m\u001B[43m \u001B[49m\u001B[43moracul\u001B[49m\u001B[43m,\u001B[49m\u001B[43m \u001B[49m\u001B[43mpoint\u001B[49m\u001B[43m,\u001B[49m\u001B[43m \u001B[49m\u001B[43mmodules\u001B[49m\u001B[43m,\u001B[49m\u001B[43m \u001B[49m\u001B[38;5;241;43m*\u001B[39;49m\u001B[38;5;241;43m*\u001B[39;49m\u001B[43mparams\u001B[49m\u001B[43m)\u001B[49m \u001B[38;5;28;01mfor\u001B[39;00m method \u001B[38;5;129;01min\u001B[39;00m methods]\n\u001B[1;32m     52\u001B[0m             \u001B[38;5;28;01mfor\u001B[39;00m oracul \u001B[38;5;129;01min\u001B[39;00m oraculs]\n\u001B[1;32m     53\u001B[0m     \u001B[38;5;28;01mreturn\u001B[39;00m [Runner\u001B[38;5;241m.\u001B[39minfo(oracul, table, \u001B[38;5;241m*\u001B[39m\u001B[38;5;241m*\u001B[39mparams) \u001B[38;5;28;01mfor\u001B[39;00m oracul, table \u001B[38;5;129;01min\u001B[39;00m \u001B[38;5;28mzip\u001B[39m(oraculs, data)]\n",
      "File \u001B[0;32m~/Documents/Methods-of-optimization/src/v2/runner/runner.py:85\u001B[0m, in \u001B[0;36mRunner.run_pipeline\u001B[0;34m(method, oracul, point, modules, **params)\u001B[0m\n\u001B[1;32m     83\u001B[0m \u001B[38;5;28;01mwhile\u001B[39;00m pipeline\u001B[38;5;241m.\u001B[39mprocess_step(state, method\u001B[38;5;241m.\u001B[39mmeta(), \u001B[38;5;241m*\u001B[39m\u001B[38;5;241m*\u001B[39mparams):\n\u001B[1;32m     84\u001B[0m     state\u001B[38;5;241m.\u001B[39mindex \u001B[38;5;241m+\u001B[39m\u001B[38;5;241m=\u001B[39m \u001B[38;5;241m1\u001B[39m\n\u001B[0;32m---> 85\u001B[0m     state \u001B[38;5;241m=\u001B[39m \u001B[43mmethod\u001B[49m\u001B[38;5;241;43m.\u001B[39;49m\u001B[43mstep\u001B[49m\u001B[43m(\u001B[49m\u001B[43mprepared_oracul\u001B[49m\u001B[43m,\u001B[49m\u001B[43m \u001B[49m\u001B[43mstate\u001B[49m\u001B[43m,\u001B[49m\u001B[43m \u001B[49m\u001B[38;5;241;43m*\u001B[39;49m\u001B[38;5;241;43m*\u001B[39;49m\u001B[43mparams\u001B[49m\u001B[43m)\u001B[49m\n\u001B[1;32m     87\u001B[0m \u001B[38;5;28;01mif\u001B[39;00m info:\n\u001B[1;32m     88\u001B[0m     \u001B[38;5;28mprint\u001B[39m(\u001B[38;5;124mf\u001B[39m\u001B[38;5;124m\"\u001B[39m\u001B[38;5;124m[INFO][Method][\u001B[39m\u001B[38;5;132;01m{\u001B[39;00mmethod\u001B[38;5;241m.\u001B[39mmeta()\u001B[38;5;241m.\u001B[39mfull_name()\u001B[38;5;132;01m}\u001B[39;00m\u001B[38;5;124m] Completed!\u001B[39m\u001B[38;5;124m\"\u001B[39m)\n",
      "File \u001B[0;32m~/Documents/Methods-of-optimization/src/v2/impl/methods.py:239\u001B[0m, in \u001B[0;36mNewtonBase.step\u001B[0;34m(self, oracul, state, **params)\u001B[0m\n\u001B[1;32m    236\u001B[0m     inverted \u001B[38;5;241m=\u001B[39m np\u001B[38;5;241m.\u001B[39mlinalg\u001B[38;5;241m.\u001B[39minv(hess \u001B[38;5;241m+\u001B[39m np\u001B[38;5;241m.\u001B[39meye(hess\u001B[38;5;241m.\u001B[39mshape[\u001B[38;5;241m0\u001B[39m]) \u001B[38;5;241m*\u001B[39m \u001B[38;5;241m1e-11\u001B[39m)\n\u001B[1;32m    237\u001B[0m ray \u001B[38;5;241m=\u001B[39m np\u001B[38;5;241m.\u001B[39mdot(inverted,\n\u001B[1;32m    238\u001B[0m              oracul\u001B[38;5;241m.\u001B[39mevaluate_gradient(state\u001B[38;5;241m.\u001B[39mpoint))\n\u001B[0;32m--> 239\u001B[0m state\u001B[38;5;241m.\u001B[39mpoint \u001B[38;5;241m=\u001B[39m (np\u001B[38;5;241m.\u001B[39marray(state\u001B[38;5;241m.\u001B[39mpoint, dtype\u001B[38;5;241m=\u001B[39mnp\u001B[38;5;241m.\u001B[39mfloat64) \u001B[38;5;241m-\u001B[39m \u001B[38;5;28;43mself\u001B[39;49m\u001B[38;5;241;43m.\u001B[39;49m\u001B[43mget_learning_rate\u001B[49m\u001B[43m(\u001B[49m\u001B[43mstate\u001B[49m\u001B[38;5;241;43m.\u001B[39;49m\u001B[43mpoint\u001B[49m\u001B[43m,\u001B[49m\u001B[43m \u001B[49m\u001B[43mray\u001B[49m\u001B[43m,\u001B[49m\u001B[43m \u001B[49m\u001B[43moracul\u001B[49m\u001B[43m)\u001B[49m\n\u001B[1;32m    240\u001B[0m                \u001B[38;5;241m*\u001B[39m ray)\n\u001B[1;32m    241\u001B[0m state\u001B[38;5;241m.\u001B[39meps \u001B[38;5;241m=\u001B[39m \u001B[38;5;28mself\u001B[39m\u001B[38;5;241m.\u001B[39mget_precision(state)\n\u001B[1;32m    242\u001B[0m \u001B[38;5;28;01mreturn\u001B[39;00m state\n",
      "File \u001B[0;32m~/Documents/Methods-of-optimization/src/v2/impl/methods.py:265\u001B[0m, in \u001B[0;36mNewton.get_learning_rate\u001B[0;34m(self, point, ray, oracul)\u001B[0m\n\u001B[1;32m    264\u001B[0m \u001B[38;5;28;01mdef\u001B[39;00m \u001B[38;5;21mget_learning_rate\u001B[39m(\u001B[38;5;28mself\u001B[39m, point: np\u001B[38;5;241m.\u001B[39mndarray, ray: np\u001B[38;5;241m.\u001B[39mndarray, oracul: Oracul) \u001B[38;5;241m-\u001B[39m\u001B[38;5;241m>\u001B[39m \u001B[38;5;28mfloat\u001B[39m:\n\u001B[0;32m--> 265\u001B[0m     data \u001B[38;5;241m=\u001B[39m \u001B[43mRunner\u001B[49m\u001B[38;5;241;43m.\u001B[39;49m\u001B[43mrun_pipeline\u001B[49m\u001B[43m(\u001B[49m\n\u001B[1;32m    266\u001B[0m \u001B[43m        \u001B[49m\u001B[38;5;28;43mself\u001B[39;49m\u001B[38;5;241;43m.\u001B[39;49m\u001B[43mmethod\u001B[49m\u001B[43m,\u001B[49m\n\u001B[1;32m    267\u001B[0m \u001B[43m        \u001B[49m\u001B[43mLambdaOracul\u001B[49m\u001B[43m(\u001B[49m\n\u001B[1;32m    268\u001B[0m \u001B[43m            \u001B[49m\u001B[38;5;28;43;01mlambda\u001B[39;49;00m\u001B[43m \u001B[49m\u001B[43mrate\u001B[49m\u001B[43m:\u001B[49m\u001B[43m \u001B[49m\u001B[43moracul\u001B[49m\u001B[38;5;241;43m.\u001B[39;49m\u001B[43mevaluate\u001B[49m\u001B[43m(\u001B[49m\u001B[43mpoint\u001B[49m\u001B[43m \u001B[49m\u001B[38;5;241;43m-\u001B[39;49m\u001B[43m \u001B[49m\u001B[43mrate\u001B[49m\u001B[43m \u001B[49m\u001B[38;5;241;43m*\u001B[39;49m\u001B[43m \u001B[49m\u001B[43mray\u001B[49m\u001B[43m)\u001B[49m\n\u001B[1;32m    269\u001B[0m \u001B[43m        \u001B[49m\u001B[43m)\u001B[49m\u001B[43m,\u001B[49m\n\u001B[1;32m    270\u001B[0m \u001B[43m        \u001B[49m\u001B[43mnp\u001B[49m\u001B[38;5;241;43m.\u001B[39;49m\u001B[43marray\u001B[49m\u001B[43m(\u001B[49m\u001B[43m[\u001B[49m\u001B[38;5;241;43m0\u001B[39;49m\u001B[43m]\u001B[49m\u001B[43m)\u001B[49m\u001B[43m,\u001B[49m\n\u001B[1;32m    271\u001B[0m \u001B[43m        \u001B[49m\u001B[43m[\u001B[49m\u001B[43mPrecisionCondition\u001B[49m\u001B[43m(\u001B[49m\u001B[38;5;28;43mself\u001B[39;49m\u001B[38;5;241;43m.\u001B[39;49m\u001B[43meps\u001B[49m\u001B[43m)\u001B[49m\u001B[43m]\u001B[49m\u001B[43m,\u001B[49m\n\u001B[1;32m    272\u001B[0m \u001B[43m        \u001B[49m\u001B[43mleft\u001B[49m\u001B[38;5;241;43m=\u001B[39;49m\u001B[38;5;241;43m0\u001B[39;49m\u001B[43m,\u001B[49m\n\u001B[1;32m    273\u001B[0m \u001B[43m        \u001B[49m\u001B[43mright\u001B[49m\u001B[38;5;241;43m=\u001B[39;49m\u001B[38;5;28;43mself\u001B[39;49m\u001B[38;5;241;43m.\u001B[39;49m\u001B[43mlearning_rate\u001B[49m\u001B[43m)\u001B[49m\n\u001B[1;32m    274\u001B[0m     \u001B[38;5;28;01mreturn\u001B[39;00m data[\u001B[38;5;241m0\u001B[39m][\u001B[38;5;241m1\u001B[39m]\n",
      "File \u001B[0;32m~/Documents/Methods-of-optimization/src/v2/runner/runner.py:85\u001B[0m, in \u001B[0;36mRunner.run_pipeline\u001B[0;34m(method, oracul, point, modules, **params)\u001B[0m\n\u001B[1;32m     83\u001B[0m \u001B[38;5;28;01mwhile\u001B[39;00m pipeline\u001B[38;5;241m.\u001B[39mprocess_step(state, method\u001B[38;5;241m.\u001B[39mmeta(), \u001B[38;5;241m*\u001B[39m\u001B[38;5;241m*\u001B[39mparams):\n\u001B[1;32m     84\u001B[0m     state\u001B[38;5;241m.\u001B[39mindex \u001B[38;5;241m+\u001B[39m\u001B[38;5;241m=\u001B[39m \u001B[38;5;241m1\u001B[39m\n\u001B[0;32m---> 85\u001B[0m     state \u001B[38;5;241m=\u001B[39m \u001B[43mmethod\u001B[49m\u001B[38;5;241;43m.\u001B[39;49m\u001B[43mstep\u001B[49m\u001B[43m(\u001B[49m\u001B[43mprepared_oracul\u001B[49m\u001B[43m,\u001B[49m\u001B[43m \u001B[49m\u001B[43mstate\u001B[49m\u001B[43m,\u001B[49m\u001B[43m \u001B[49m\u001B[38;5;241;43m*\u001B[39;49m\u001B[38;5;241;43m*\u001B[39;49m\u001B[43mparams\u001B[49m\u001B[43m)\u001B[49m\n\u001B[1;32m     87\u001B[0m \u001B[38;5;28;01mif\u001B[39;00m info:\n\u001B[1;32m     88\u001B[0m     \u001B[38;5;28mprint\u001B[39m(\u001B[38;5;124mf\u001B[39m\u001B[38;5;124m\"\u001B[39m\u001B[38;5;124m[INFO][Method][\u001B[39m\u001B[38;5;132;01m{\u001B[39;00mmethod\u001B[38;5;241m.\u001B[39mmeta()\u001B[38;5;241m.\u001B[39mfull_name()\u001B[38;5;132;01m}\u001B[39;00m\u001B[38;5;124m] Completed!\u001B[39m\u001B[38;5;124m\"\u001B[39m)\n",
      "File \u001B[0;32m~/Documents/Methods-of-optimization/src/v2/impl/methods.py:324\u001B[0m, in \u001B[0;36mWolfe.step\u001B[0;34m(self, oracul, state, **params)\u001B[0m\n\u001B[1;32m    322\u001B[0m     \u001B[38;5;28;01mreturn\u001B[39;00m state\n\u001B[1;32m    323\u001B[0m \u001B[38;5;28mself\u001B[39m\u001B[38;5;241m.\u001B[39mpk \u001B[38;5;241m=\u001B[39m np\u001B[38;5;241m.\u001B[39msqrt(np\u001B[38;5;241m.\u001B[39mdot(grad, grad))\n\u001B[0;32m--> 324\u001B[0m \u001B[38;5;28mself\u001B[39m\u001B[38;5;241m.\u001B[39malpha \u001B[38;5;241m=\u001B[39m \u001B[38;5;28;43mself\u001B[39;49m\u001B[38;5;241;43m.\u001B[39;49m\u001B[43mwolfe\u001B[49m\u001B[43m(\u001B[49m\u001B[43moracul\u001B[49m\u001B[43m,\u001B[49m\u001B[43m \u001B[49m\u001B[38;5;28;43mself\u001B[39;49m\u001B[38;5;241;43m.\u001B[39;49m\u001B[43mpoint\u001B[49m\u001B[43m,\u001B[49m\u001B[43m \u001B[49m\u001B[38;5;28;43mself\u001B[39;49m\u001B[38;5;241;43m.\u001B[39;49m\u001B[43mpk\u001B[49m\u001B[43m,\u001B[49m\u001B[43m \u001B[49m\u001B[38;5;28;43mself\u001B[39;49m\u001B[38;5;241;43m.\u001B[39;49m\u001B[43mc1\u001B[49m\u001B[43m,\u001B[49m\u001B[43m \u001B[49m\u001B[38;5;28;43mself\u001B[39;49m\u001B[38;5;241;43m.\u001B[39;49m\u001B[43mc2\u001B[49m\u001B[43m,\u001B[49m\u001B[43m \u001B[49m\u001B[38;5;28;43mself\u001B[39;49m\u001B[38;5;241;43m.\u001B[39;49m\u001B[43malpha\u001B[49m\u001B[43m,\u001B[49m\u001B[43m \u001B[49m\u001B[38;5;241;43m100.0\u001B[39;49m\u001B[43m,\u001B[49m\u001B[43m \u001B[49m\u001B[38;5;28;43mself\u001B[39;49m\u001B[38;5;241;43m.\u001B[39;49m\u001B[43mmax_iters\u001B[49m\u001B[43m)\u001B[49m\n\u001B[1;32m    325\u001B[0m state\u001B[38;5;241m.\u001B[39mpoint \u001B[38;5;241m=\u001B[39m np\u001B[38;5;241m.\u001B[39marray([\u001B[38;5;28mself\u001B[39m\u001B[38;5;241m.\u001B[39malpha])\n\u001B[1;32m    326\u001B[0m \u001B[38;5;28mself\u001B[39m\u001B[38;5;241m.\u001B[39mpoint \u001B[38;5;241m=\u001B[39m \u001B[38;5;28mself\u001B[39m\u001B[38;5;241m.\u001B[39mpoint \u001B[38;5;241m+\u001B[39m \u001B[38;5;28mself\u001B[39m\u001B[38;5;241m.\u001B[39malpha \u001B[38;5;241m*\u001B[39m \u001B[38;5;28mself\u001B[39m\u001B[38;5;241m.\u001B[39mpk\n",
      "File \u001B[0;32m~/Documents/Methods-of-optimization/src/v2/impl/methods.py:337\u001B[0m, in \u001B[0;36mWolfe.wolfe\u001B[0;34m(self, oracul, x, pk, c1, c2, alpha, alpha_max, max_iters)\u001B[0m\n\u001B[1;32m    335\u001B[0m proj_gk \u001B[38;5;241m=\u001B[39m np\u001B[38;5;241m.\u001B[39mdot(\u001B[38;5;28mself\u001B[39m\u001B[38;5;241m.\u001B[39mgk, pk)\n\u001B[1;32m    336\u001B[0m fj \u001B[38;5;241m=\u001B[39m oracul\u001B[38;5;241m.\u001B[39mevaluate(x \u001B[38;5;241m+\u001B[39m alpha \u001B[38;5;241m*\u001B[39m pk)\n\u001B[0;32m--> 337\u001B[0m gj \u001B[38;5;241m=\u001B[39m \u001B[43moracul\u001B[49m\u001B[38;5;241;43m.\u001B[39;49m\u001B[43mevaluate_gradient\u001B[49m\u001B[43m(\u001B[49m\u001B[43mx\u001B[49m\u001B[43m \u001B[49m\u001B[38;5;241;43m+\u001B[39;49m\u001B[43m \u001B[49m\u001B[43malpha\u001B[49m\u001B[43m \u001B[49m\u001B[38;5;241;43m*\u001B[39;49m\u001B[43m \u001B[49m\u001B[43mpk\u001B[49m\u001B[43m)\u001B[49m\n\u001B[1;32m    338\u001B[0m proj_gj \u001B[38;5;241m=\u001B[39m np\u001B[38;5;241m.\u001B[39mdot(gj, pk)\n\u001B[1;32m    339\u001B[0m \u001B[38;5;28;01mif\u001B[39;00m fj \u001B[38;5;241m>\u001B[39m \u001B[38;5;28mself\u001B[39m\u001B[38;5;241m.\u001B[39mfk \u001B[38;5;241m+\u001B[39m c1 \u001B[38;5;241m*\u001B[39m alpha \u001B[38;5;241m*\u001B[39m proj_gk \u001B[38;5;129;01mor\u001B[39;00m \u001B[38;5;129;01mnot\u001B[39;00m \u001B[38;5;28mself\u001B[39m\u001B[38;5;241m.\u001B[39mfirst \u001B[38;5;129;01mand\u001B[39;00m fj \u001B[38;5;241m>\u001B[39m \u001B[38;5;28mself\u001B[39m\u001B[38;5;241m.\u001B[39mfj_old:\n",
      "File \u001B[0;32m~/Documents/Methods-of-optimization/src/v2/model/oracul.py:34\u001B[0m, in \u001B[0;36mOracul.evaluate_gradient\u001B[0;34m(self, point, **params)\u001B[0m\n\u001B[1;32m     28\u001B[0m \u001B[38;5;28;01mdef\u001B[39;00m \u001B[38;5;21mevaluate_gradient\u001B[39m(\u001B[38;5;28mself\u001B[39m, point: np\u001B[38;5;241m.\u001B[39mndarray, \u001B[38;5;241m*\u001B[39m\u001B[38;5;241m*\u001B[39mparams) \u001B[38;5;241m-\u001B[39m\u001B[38;5;241m>\u001B[39m np\u001B[38;5;241m.\u001B[39mndarray:\n\u001B[1;32m     29\u001B[0m \u001B[38;5;250m    \u001B[39m\u001B[38;5;124;03m\"\"\"\u001B[39;00m\n\u001B[1;32m     30\u001B[0m \u001B[38;5;124;03m    Get gradient in point\u001B[39;00m\n\u001B[1;32m     31\u001B[0m \u001B[38;5;124;03m    :param point:       point for calculating gradient\u001B[39;00m\n\u001B[1;32m     32\u001B[0m \u001B[38;5;124;03m    :return:            calculated gradient\u001B[39;00m\n\u001B[1;32m     33\u001B[0m \u001B[38;5;124;03m    \"\"\"\u001B[39;00m\n\u001B[0;32m---> 34\u001B[0m     \u001B[38;5;28;01mreturn\u001B[39;00m \u001B[43mnd\u001B[49m\u001B[38;5;241;43m.\u001B[39;49m\u001B[43mGradient\u001B[49m\u001B[43m(\u001B[49m\u001B[38;5;28;43mself\u001B[39;49m\u001B[38;5;241;43m.\u001B[39;49m\u001B[43mevaluate\u001B[49m\u001B[43m)\u001B[49m\u001B[43m(\u001B[49m\u001B[43mpoint\u001B[49m\u001B[43m)\u001B[49m\n",
      "File \u001B[0;32m~/Documents/Methods-of-optimization/venv/lib/python3.9/site-packages/numdifftools/core.py:490\u001B[0m, in \u001B[0;36mGradient.__call__\u001B[0;34m(self, x, *args, **kwds)\u001B[0m\n\u001B[1;32m    489\u001B[0m \u001B[38;5;28;01mdef\u001B[39;00m \u001B[38;5;21m__call__\u001B[39m(\u001B[38;5;28mself\u001B[39m, x, \u001B[38;5;241m*\u001B[39margs, \u001B[38;5;241m*\u001B[39m\u001B[38;5;241m*\u001B[39mkwds):\n\u001B[0;32m--> 490\u001B[0m     result \u001B[38;5;241m=\u001B[39m \u001B[38;5;28;43msuper\u001B[39;49m\u001B[43m(\u001B[49m\u001B[43mGradient\u001B[49m\u001B[43m,\u001B[49m\u001B[43m \u001B[49m\u001B[38;5;28;43mself\u001B[39;49m\u001B[43m)\u001B[49m\u001B[38;5;241;43m.\u001B[39;49m\u001B[38;5;21;43m__call__\u001B[39;49m\u001B[43m(\u001B[49m\u001B[43mnp\u001B[49m\u001B[38;5;241;43m.\u001B[39;49m\u001B[43matleast_1d\u001B[49m\u001B[43m(\u001B[49m\u001B[43mx\u001B[49m\u001B[43m)\u001B[49m\u001B[38;5;241;43m.\u001B[39;49m\u001B[43mravel\u001B[49m\u001B[43m(\u001B[49m\u001B[43m)\u001B[49m\u001B[43m,\u001B[49m\u001B[43m \u001B[49m\u001B[38;5;241;43m*\u001B[39;49m\u001B[43margs\u001B[49m\u001B[43m,\u001B[49m\u001B[43m \u001B[49m\u001B[38;5;241;43m*\u001B[39;49m\u001B[38;5;241;43m*\u001B[39;49m\u001B[43mkwds\u001B[49m\u001B[43m)\u001B[49m\n\u001B[1;32m    491\u001B[0m     \u001B[38;5;28;01mif\u001B[39;00m \u001B[38;5;28mself\u001B[39m\u001B[38;5;241m.\u001B[39mfull_output:\n\u001B[1;32m    492\u001B[0m         \u001B[38;5;28;01mreturn\u001B[39;00m result[\u001B[38;5;241m0\u001B[39m]\u001B[38;5;241m.\u001B[39msqueeze(), result[\u001B[38;5;241m1\u001B[39m]\n",
      "File \u001B[0;32m~/Documents/Methods-of-optimization/venv/lib/python3.9/site-packages/numdifftools/core.py:431\u001B[0m, in \u001B[0;36mJacobian.__call__\u001B[0;34m(self, x, *args, **kwds)\u001B[0m\n\u001B[1;32m    430\u001B[0m \u001B[38;5;28;01mdef\u001B[39;00m \u001B[38;5;21m__call__\u001B[39m(\u001B[38;5;28mself\u001B[39m, x, \u001B[38;5;241m*\u001B[39margs, \u001B[38;5;241m*\u001B[39m\u001B[38;5;241m*\u001B[39mkwds):\n\u001B[0;32m--> 431\u001B[0m     \u001B[38;5;28;01mreturn\u001B[39;00m \u001B[38;5;28;43msuper\u001B[39;49m\u001B[43m(\u001B[49m\u001B[43mJacobian\u001B[49m\u001B[43m,\u001B[49m\u001B[43m \u001B[49m\u001B[38;5;28;43mself\u001B[39;49m\u001B[43m)\u001B[49m\u001B[38;5;241;43m.\u001B[39;49m\u001B[38;5;21;43m__call__\u001B[39;49m\u001B[43m(\u001B[49m\u001B[43mnp\u001B[49m\u001B[38;5;241;43m.\u001B[39;49m\u001B[43matleast_1d\u001B[49m\u001B[43m(\u001B[49m\u001B[43mx\u001B[49m\u001B[43m)\u001B[49m\u001B[43m,\u001B[49m\u001B[43m \u001B[49m\u001B[38;5;241;43m*\u001B[39;49m\u001B[43margs\u001B[49m\u001B[43m,\u001B[49m\u001B[43m \u001B[49m\u001B[38;5;241;43m*\u001B[39;49m\u001B[38;5;241;43m*\u001B[39;49m\u001B[43mkwds\u001B[49m\u001B[43m)\u001B[49m\n",
      "File \u001B[0;32m~/Documents/Methods-of-optimization/venv/lib/python3.9/site-packages/numdifftools/core.py:288\u001B[0m, in \u001B[0;36mDerivative.__call__\u001B[0;34m(self, x, *args, **kwds)\u001B[0m\n\u001B[1;32m    286\u001B[0m x_i \u001B[38;5;241m=\u001B[39m np\u001B[38;5;241m.\u001B[39masarray(x)\n\u001B[1;32m    287\u001B[0m \u001B[38;5;28;01mwith\u001B[39;00m np\u001B[38;5;241m.\u001B[39merrstate(divide\u001B[38;5;241m=\u001B[39m\u001B[38;5;124m'\u001B[39m\u001B[38;5;124mignore\u001B[39m\u001B[38;5;124m'\u001B[39m, invalid\u001B[38;5;241m=\u001B[39m\u001B[38;5;124m'\u001B[39m\u001B[38;5;124mignore\u001B[39m\u001B[38;5;124m'\u001B[39m):\n\u001B[0;32m--> 288\u001B[0m     results, f_xi \u001B[38;5;241m=\u001B[39m \u001B[38;5;28;43mself\u001B[39;49m\u001B[38;5;241;43m.\u001B[39;49m\u001B[43m_derivative\u001B[49m\u001B[43m(\u001B[49m\u001B[43mx_i\u001B[49m\u001B[43m,\u001B[49m\u001B[43m \u001B[49m\u001B[43margs\u001B[49m\u001B[43m,\u001B[49m\u001B[43m \u001B[49m\u001B[43mkwds\u001B[49m\u001B[43m)\u001B[49m\n\u001B[1;32m    289\u001B[0m     derivative, info \u001B[38;5;241m=\u001B[39m \u001B[38;5;28mself\u001B[39m\u001B[38;5;241m.\u001B[39m_extrapolate(\u001B[38;5;241m*\u001B[39mresults)\n\u001B[1;32m    290\u001B[0m \u001B[38;5;28;01mif\u001B[39;00m \u001B[38;5;28mself\u001B[39m\u001B[38;5;241m.\u001B[39mfull_output:\n",
      "File \u001B[0;32m~/Documents/Methods-of-optimization/venv/lib/python3.9/site-packages/numdifftools/core.py:428\u001B[0m, in \u001B[0;36mJacobian._derivative_nonzero_order\u001B[0;34m(self, x_i, args, kwds)\u001B[0m\n\u001B[1;32m    425\u001B[0m steps2 \u001B[38;5;241m=\u001B[39m \u001B[38;5;28mself\u001B[39m\u001B[38;5;241m.\u001B[39m_expand_steps(steps, x_i, fxi)\n\u001B[1;32m    427\u001B[0m \u001B[38;5;28mself\u001B[39m\u001B[38;5;241m.\u001B[39mset_richardson_rule(step_ratio, \u001B[38;5;28mself\u001B[39m\u001B[38;5;241m.\u001B[39mrichardson_terms)\n\u001B[0;32m--> 428\u001B[0m \u001B[38;5;28;01mreturn\u001B[39;00m \u001B[38;5;28;43mself\u001B[39;49m\u001B[38;5;241;43m.\u001B[39;49m\u001B[43mfd_rule\u001B[49m\u001B[38;5;241;43m.\u001B[39;49m\u001B[43mapply\u001B[49m\u001B[43m(\u001B[49m\u001B[43mresults\u001B[49m\u001B[43m,\u001B[49m\u001B[43m \u001B[49m\u001B[43msteps2\u001B[49m\u001B[43m,\u001B[49m\u001B[43m \u001B[49m\u001B[43mstep_ratio\u001B[49m\u001B[43m)\u001B[49m, fxi\n",
      "File \u001B[0;32m~/Documents/Methods-of-optimization/venv/lib/python3.9/site-packages/numdifftools/finite_difference.py:583\u001B[0m, in \u001B[0;36mLogRule.apply\u001B[0;34m(self, sequence, steps, step_ratio)\u001B[0m\n\u001B[1;32m    571\u001B[0m \u001B[38;5;28;01mdef\u001B[39;00m \u001B[38;5;21mapply\u001B[39m(\u001B[38;5;28mself\u001B[39m, sequence, steps, step_ratio\u001B[38;5;241m=\u001B[39m\u001B[38;5;241m2.0\u001B[39m):\n\u001B[1;32m    572\u001B[0m \u001B[38;5;250m    \u001B[39m\u001B[38;5;124;03m\"\"\"\u001B[39;00m\n\u001B[1;32m    573\u001B[0m \u001B[38;5;124;03m    Apply finite difference rule along the first axis.\u001B[39;00m\n\u001B[1;32m    574\u001B[0m \n\u001B[0;32m   (...)\u001B[0m\n\u001B[1;32m    581\u001B[0m \n\u001B[1;32m    582\u001B[0m \u001B[38;5;124;03m    \"\"\"\u001B[39;00m\n\u001B[0;32m--> 583\u001B[0m     f_del, h, original_shape \u001B[38;5;241m=\u001B[39m \u001B[38;5;28;43mself\u001B[39;49m\u001B[38;5;241;43m.\u001B[39;49m\u001B[43m_vstack\u001B[49m\u001B[43m(\u001B[49m\u001B[43msequence\u001B[49m\u001B[43m,\u001B[49m\u001B[43m \u001B[49m\u001B[43msteps\u001B[49m\u001B[43m)\u001B[49m\n\u001B[1;32m    584\u001B[0m     der_init, h \u001B[38;5;241m=\u001B[39m \u001B[38;5;28mself\u001B[39m\u001B[38;5;241m.\u001B[39m_apply(f_del, h, step_ratio)\n\u001B[1;32m    585\u001B[0m     \u001B[38;5;28;01mreturn\u001B[39;00m der_init, h, original_shape\n",
      "File \u001B[0;32m~/Documents/Methods-of-optimization/venv/lib/python3.9/site-packages/numdifftools/finite_difference.py:673\u001B[0m, in \u001B[0;36mLogJacobianRule._vstack\u001B[0;34m(self, sequence, steps)\u001B[0m\n\u001B[1;32m    672\u001B[0m \u001B[38;5;28;01mdef\u001B[39;00m \u001B[38;5;21m_vstack\u001B[39m(\u001B[38;5;28mself\u001B[39m, sequence, steps):\n\u001B[0;32m--> 673\u001B[0m     original_shape \u001B[38;5;241m=\u001B[39m \u001B[38;5;28mlist\u001B[39m(np\u001B[38;5;241m.\u001B[39mshape(np\u001B[38;5;241m.\u001B[39matleast_1d(\u001B[43msequence\u001B[49m\u001B[43m[\u001B[49m\u001B[38;5;241;43m0\u001B[39;49m\u001B[43m]\u001B[49m)))\n\u001B[1;32m    674\u001B[0m     ndim \u001B[38;5;241m=\u001B[39m \u001B[38;5;28mlen\u001B[39m(original_shape)\n\u001B[1;32m    675\u001B[0m     \u001B[38;5;28;01mif\u001B[39;00m \u001B[38;5;28msum\u001B[39m(original_shape) \u001B[38;5;241m==\u001B[39m ndim:\n",
      "\u001B[0;31mIndexError\u001B[0m: list index out of range"
     ]
    }
   ],
   "execution_count": 7
  },
  {
   "cell_type": "code",
   "source": [
    "from src.v2.impl.oraculs import LambdaOracul\n",
    "wolfe = Wolfe(c1=0.1, c2=0.2, aprox_dec=1e-7, max_iters=3)\n",
    "rosenbrok = LambdaOracul(lambda x, y: (1 - x)**2 + 100 * (y - x**2)**2)\n",
    "#bad_defined_absolute = SymbolOracul(1000 * (x - 100) ** 10 + 100 * (y + 20) ** 10, ['x', 'y'])\n",
    "bad_defined = LambdaOracul(lambda x, y: 1000 * (np.float64(x) - 100) ** 10 + 100 * (np.float64(y) + 20) ** 10)\n",
    "min_point = np.array([100, -20])\n",
    "metrics = [StepCount(), CallCount(), GradientCallCount(), HessianCallCount(),\n",
    "           AbsolutePrecisionCount(0.001, min_point),\n",
    "           MinAbsolutePrecision(min_point)]\n",
    "conditions = [StepCountCondition(1000), PrecisionCondition(0.00001)]\n",
    "#AbsolutePrecisionCondition(0.0001, min_point)            \n",
    "animations = [Animator()]\n",
    "\n",
    "modules = animations + metrics + conditions\n",
    "methods2 = [\n",
    "    Newton(method=wolfe, aprox_dec=1e-7, learning_rate=0.5)\n",
    "]\n",
    "oraculs = [rosenbrok]\n",
    "point = np.array([-100, -200])\n",
    "result = Runner.run(methods2, oraculs, point, modules, precision=1e-5, **TABLE, **NO_VISUALIZE, **FULL_DEBUG)"
   ],
   "metadata": {
    "collapsed": false
   },
   "id": "d8bfd3cf0538836a",
   "outputs": [],
   "execution_count": null
  },
  {
   "metadata": {},
   "cell_type": "code",
   "source": "",
   "id": "92e7bab276637e62",
   "outputs": [],
   "execution_count": null
  }
 ],
 "metadata": {
  "kernelspec": {
   "display_name": "Python 3 (ipykernel)",
   "language": "python",
   "name": "python3"
  },
  "language_info": {
   "codemirror_mode": {
    "name": "ipython",
    "version": 3
   },
   "file_extension": ".py",
   "mimetype": "text/x-python",
   "name": "python",
   "nbconvert_exporter": "python",
   "pygments_lexer": "ipython3",
   "version": "3.9.10"
  }
 },
 "nbformat": 4,
 "nbformat_minor": 5
}
