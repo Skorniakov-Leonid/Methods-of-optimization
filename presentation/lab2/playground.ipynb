{
 "cells": [
  {
   "cell_type": "code",
   "execution_count": 1,
   "id": "initial_id",
   "metadata": {
    "ExecuteTime": {
     "end_time": "2024-04-16T16:38:12.109894Z",
     "start_time": "2024-04-16T16:38:11.000901Z"
    }
   },
   "outputs": [],
   "source": [
    "import matplotlib.pyplot as plt\n",
    "import numpy as np\n",
    "import sympy\n",
    "from src.v2.impl.conditions import StepCountCondition, PrecisionCondition, AbsolutePrecisionCondition\n",
    "from src.v2.impl.methods import CoordinateDescent, GoldenRatioMethod\n",
    "from src.v2.impl.metrics import StepCount, CallCount, GradientCallCount, HessianCallCount, PrecisionCount, \\\n",
    "    AbsolutePrecisionCount, AbsolutePrecision, MinAbsolutePrecision\n",
    "from src.v2.impl.oraculs import LambdaOracul, SymbolOracul\n",
    "from src.v2.runner.debug import FULL_DEBUG\n",
    "from src.v2.runner.runner import Runner, FULL_VISUALIZE, NO_VISUALIZE\n",
    "from src.v2.visualization.animation import Animator, FULL_ANIMATION\n",
    "from src.v2.runner.runner import TABLE\n",
    "from src.v2.impl.methods import GradientDescent, ScipyMethod, Newton, NewtonBase\n",
    "from IPython.display import display, HTML"
   ]
  },
  {
   "cell_type": "code",
   "execution_count": 2,
   "id": "8a8b4080cc0d9e5a",
   "metadata": {
    "ExecuteTime": {
     "end_time": "2024-04-06T18:03:51.208037Z",
     "start_time": "2024-04-06T18:03:51.194030Z"
    },
    "collapsed": false
   },
   "outputs": [
    {
     "data": {
      "text/plain": [
       "False"
      ]
     },
     "execution_count": 2,
     "metadata": {},
     "output_type": "execute_result"
    }
   ],
   "source": [
    "diff(symbols('x y'), symbols('x')) == diff(symbols('y x'), symbols('x'))"
   ]
  },
  {
   "cell_type": "code",
   "execution_count": 3,
   "id": "41d41cf4859b3d33",
   "metadata": {
    "ExecuteTime": {
     "end_time": "2024-04-06T18:03:51.271407Z",
     "start_time": "2024-04-06T18:03:51.210030Z"
    },
    "collapsed": false
   },
   "outputs": [
    {
     "data": {
      "text/plain": [
       "sympy.core.add.Add"
      ]
     },
     "execution_count": 3,
     "metadata": {},
     "output_type": "execute_result"
    }
   ],
   "source": [
    "x, y, z = symbols('x y z')\n",
    "expr = x**3 + 4*x*y - z\n",
    "type(expr)"
   ]
  },
  {
   "cell_type": "code",
   "execution_count": 4,
   "id": "b46bdfff447ae523",
   "metadata": {
    "ExecuteTime": {
     "end_time": "2024-04-06T18:17:37.817255Z",
     "start_time": "2024-04-06T18:17:37.800247Z"
    },
    "collapsed": false
   },
   "outputs": [],
   "source": [
    "from src.common import Point\n",
    "from src.common.oracul import SymbolOracul, GradientLambdaOracul\n",
    "\n",
    "x, y, z  = symbols('x y z')\n",
    "expr = x * 0.26 * (x ** 2 + y ** 2) - 0.48 * x * y \n",
    "test = SymbolOracul(expr, ['x', 'y'])\n",
    "base_differential = GradientLambdaOracul(lambda x, y: 0.26 * (x ** 2 + y ** 2) - 0.48 * x * y,\n",
    "                                         lambda x, y: np.array([0.52 * x - 0.48 * y, 0.52 * y - 0.48 * x],\n",
    "                                                               dtype=np.float64))"
   ]
  },
  {
   "cell_type": "code",
   "execution_count": 5,
   "id": "8bba0ae7c6409435",
   "metadata": {
    "ExecuteTime": {
     "end_time": "2024-04-06T18:03:51.746818Z",
     "start_time": "2024-04-06T18:03:51.732820Z"
    },
    "collapsed": false
   },
   "outputs": [
    {
     "data": {
      "text/plain": [
       "array([[1.56, 0.56],\n",
       "       [0.56, 0.52]])"
      ]
     },
     "execution_count": 5,
     "metadata": {},
     "output_type": "execute_result"
    }
   ],
   "source": [
    "test.evaluate_hessian(Point(np.array([1, 2, 3])))"
   ]
  },
  {
   "cell_type": "code",
   "outputs": [],
   "source": [
    "from src.v2.impl.methods import SteepestDescent\n",
    "#self.c1 = params[\"c1\"]\n",
    "#        self.c2 = params[\"c2\"]\n",
    " #       self.eps = params[\"aprox_dec\"]\n",
    "  #      self.max_iters = params[\"max_iters\"]\n",
    "wolfe = SteepestDescent(c1=0.1, c2=0.2, aprox_dec=1e-11, max_iters=20)"
   ],
   "metadata": {
    "collapsed": false,
    "ExecuteTime": {
     "end_time": "2024-04-16T16:38:13.947457Z",
     "start_time": "2024-04-16T16:38:13.939460Z"
    }
   },
   "id": "772af2c5f4a37590",
   "execution_count": 2
  },
  {
   "cell_type": "code",
   "outputs": [
    {
     "name": "stdout",
     "output_type": "stream",
     "text": [
      "\n",
      "LambdaOracul\n",
      "+----------------------------------------------+-------------+-------------+---------------------+--------------------+---------------------------------+------------------------+\n",
      "| Method name                                  |   StepCount |   CallCount |   GradientCallCount |   HessianCallCount |   AbsolutePrecisionCount(0.001) |   MinAbsolutePrecision |\n",
      "+==============================================+=============+=============+=====================+====================+=================================+========================+\n",
      "| Newton(3,Wolfe(0.1,0.2,eps=1e-11),eps=1e-14) |           2 |         791 |                   2 |                  2 |                               1 |            6.51092e-10 |\n",
      "+----------------------------------------------+-------------+-------------+---------------------+--------------------+---------------------------------+------------------------+\n"
     ]
    }
   ],
   "source": [
    "\n",
    "from src.v2.impl.oraculs import LambdaOracul\n",
    "#bad_defined_absolute = SymbolOracul(1000 * (x - 100) ** 10 + 100 * (y + 20) ** 10, ['x', 'y'])\n",
    "bad_defined = LambdaOracul(lambda x, y: 1000 * (np.float64(x) - 100) ** 10 + 100 * (np.float64(y) + 20) ** 10)\n",
    "min_point = np.array([100, -20])\n",
    "metrics = [StepCount(), CallCount(), GradientCallCount(), HessianCallCount(),\n",
    "           AbsolutePrecisionCount(0.001, min_point),\n",
    "           MinAbsolutePrecision(min_point)]\n",
    "conditions = [StepCountCondition(1000), PrecisionCondition(0.00001)]\n",
    "#AbsolutePrecisionCondition(0.0001, min_point)            \n",
    "animations = [Animator()]\n",
    "\n",
    "modules = animations + metrics + conditions\n",
    "methods2 = [\n",
    "    Newton(method=wolfe, aprox_dec=1e-14)\n",
    "]\n",
    "oraculs = [bad_defined]\n",
    "point = np.array([-100, -200])\n",
    "result = Runner.run(methods2, oraculs, point, modules, precision=1e-5, **TABLE, **NO_VISUALIZE)"
   ],
   "metadata": {
    "collapsed": false,
    "ExecuteTime": {
     "end_time": "2024-04-16T16:38:14.970947Z",
     "start_time": "2024-04-16T16:38:14.929940Z"
    }
   },
   "id": "ba7f36ae1b226bb5",
   "execution_count": 3
  },
  {
   "cell_type": "code",
   "outputs": [],
   "source": [],
   "metadata": {
    "collapsed": false
   },
   "id": "d8bfd3cf0538836a"
  }
 ],
 "metadata": {
  "kernelspec": {
   "display_name": "Python 3 (ipykernel)",
   "language": "python",
   "name": "python3"
  },
  "language_info": {
   "codemirror_mode": {
    "name": "ipython",
    "version": 3
   },
   "file_extension": ".py",
   "mimetype": "text/x-python",
   "name": "python",
   "nbconvert_exporter": "python",
   "pygments_lexer": "ipython3",
   "version": "3.9.10"
  }
 },
 "nbformat": 4,
 "nbformat_minor": 5
}
