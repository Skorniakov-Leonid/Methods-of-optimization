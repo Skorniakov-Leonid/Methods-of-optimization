{
 "cells": [
  {
   "cell_type": "code",
   "id": "initial_id",
   "metadata": {
    "ExecuteTime": {
     "end_time": "2024-04-17T18:12:55.134414Z",
     "start_time": "2024-04-17T18:12:55.095412Z"
    }
   },
   "source": [
    "import matplotlib.pyplot as plt\n",
    "import numpy as np\n",
    "import sympy\n",
    "from src.v2.impl.conditions import StepCountCondition, PrecisionCondition, AbsolutePrecisionCondition\n",
    "from src.v2.impl.methods import CoordinateDescent, GoldenRatioMethod\n",
    "from src.v2.impl.metrics import StepCount, CallCount, GradientCallCount, HessianCallCount, PrecisionCount, \\\n",
    "    AbsolutePrecisionCount, AbsolutePrecision, MinAbsolutePrecision\n",
    "from src.v2.impl.oraculs import LambdaOracul, SymbolOracul\n",
    "from src.v2.runner.debug import FULL_DEBUG\n",
    "from src.v2.runner.runner import Runner, FULL_VISUALIZE, NO_VISUALIZE\n",
    "from src.v2.visualization.animation import Animator, FULL_ANIMATION\n",
    "from src.v2.runner.runner import TABLE\n",
    "from src.v2.impl.methods import GradientDescent, ScipyMethod, Newton, NewtonBase\n",
    "from IPython.display import display, HTML"
   ],
   "outputs": [],
   "execution_count": 10
  },
  {
   "cell_type": "code",
   "id": "8a8b4080cc0d9e5a",
   "metadata": {
    "collapsed": false,
    "ExecuteTime": {
     "end_time": "2024-04-17T17:21:21.338353Z",
     "start_time": "2024-04-17T17:21:21.325352Z"
    }
   },
   "source": [
    "from sympy import diff, symbols\n",
    "\n",
    "diff(symbols('x y'), symbols('x')) == diff(symbols('y x'), symbols('x'))"
   ],
   "outputs": [
    {
     "data": {
      "text/plain": "False"
     },
     "execution_count": 2,
     "metadata": {},
     "output_type": "execute_result"
    }
   ],
   "execution_count": 2
  },
  {
   "cell_type": "code",
   "id": "41d41cf4859b3d33",
   "metadata": {
    "collapsed": false,
    "ExecuteTime": {
     "end_time": "2024-04-17T17:21:21.402357Z",
     "start_time": "2024-04-17T17:21:21.340352Z"
    }
   },
   "source": [
    "x, y, z = symbols('x y z')\n",
    "expr = x**3 + 4*x*y - z\n",
    "type(expr)"
   ],
   "outputs": [
    {
     "data": {
      "text/plain": "sympy.core.add.Add"
     },
     "execution_count": 3,
     "metadata": {},
     "output_type": "execute_result"
    }
   ],
   "execution_count": 3
  },
  {
   "cell_type": "code",
   "id": "b46bdfff447ae523",
   "metadata": {
    "collapsed": false,
    "ExecuteTime": {
     "end_time": "2024-04-17T17:21:21.466359Z",
     "start_time": "2024-04-17T17:21:21.405353Z"
    }
   },
   "source": [
    "from src.common import Point\n",
    "from src.common.oracul import SymbolOracul, GradientLambdaOracul\n",
    "\n",
    "x, y, z  = symbols('x y z')\n",
    "expr = x * 0.26 * (x ** 2 + y ** 2) - 0.48 * x * y \n",
    "test = SymbolOracul(expr, ['x', 'y'])\n",
    "base_differential = GradientLambdaOracul(lambda x, y: 0.26 * (x ** 2 + y ** 2) - 0.48 * x * y,\n",
    "                                         lambda x, y: np.array([0.52 * x - 0.48 * y, 0.52 * y - 0.48 * x],\n",
    "                                                               dtype=np.float64))"
   ],
   "outputs": [],
   "execution_count": 4
  },
  {
   "cell_type": "code",
   "id": "8bba0ae7c6409435",
   "metadata": {
    "collapsed": false,
    "ExecuteTime": {
     "end_time": "2024-04-17T17:21:21.482359Z",
     "start_time": "2024-04-17T17:21:21.469356Z"
    }
   },
   "source": [
    "test.evaluate_hessian(Point(np.array([1, 2, 3])))"
   ],
   "outputs": [
    {
     "data": {
      "text/plain": "array([[1.56, 0.56],\n       [0.56, 0.52]])"
     },
     "execution_count": 5,
     "metadata": {},
     "output_type": "execute_result"
    }
   ],
   "execution_count": 5
  },
  {
   "cell_type": "code",
   "source": [
    "from src.v2.impl.methods import Wolfe, NewtonWolfe\n",
    "#self.c1 = params[\"c1\"]\n",
    "#        self.c2 = params[\"c2\"]\n",
    " #       self.eps = params[\"aprox_dec\"]\n",
    "  #      self.max_iters = params[\"max_iters\"]\n",
    "wolfe = Wolfe(c1=0.1, c2=0.9, aprox_dec=1e-11, max_iters=10)"
   ],
   "metadata": {
    "collapsed": false,
    "ExecuteTime": {
     "end_time": "2024-04-17T18:12:57.844411Z",
     "start_time": "2024-04-17T18:12:57.829413Z"
    }
   },
   "id": "772af2c5f4a37590",
   "outputs": [],
   "execution_count": 11
  },
  {
   "cell_type": "code",
   "source": [
    "\n",
    "from src.v2.impl.oraculs import LambdaOracul\n",
    "#bad_defined_absolute = SymbolOracul(1000 * (x - 100) ** 10 + 100 * (y + 20) ** 10, ['x', 'y'])\n",
    "bad_defined = LambdaOracul(lambda x, y: 1000 * (np.float64(x) - 100) ** 10 + 100 * (np.float64(y) + 20) ** 10)\n",
    "min_point = np.array([100, -20])\n",
    "metrics = [StepCount(), CallCount(), GradientCallCount(), HessianCallCount(),\n",
    "           AbsolutePrecisionCount(0.001, min_point),\n",
    "           MinAbsolutePrecision(min_point)]\n",
    "conditions = [StepCountCondition(1000), PrecisionCondition(1e-11)]\n",
    "#AbsolutePrecisionCondition(0.0001, min_point)            \n",
    "animations = [Animator()]\n",
    "\n",
    "modules = animations + metrics + conditions\n",
    "methods2 = [\n",
    "    Newton(method=wolfe, aprox_dec=1e-11),\n",
    "    NewtonWolfe(c1=0.1, c2=0.9, aprox_dec=1e-11, max_iters=20)\n",
    "]\n",
    "oraculs = [bad_defined]\n",
    "point = np.array([-10, -200])\n",
    "result = Runner.run(methods2, oraculs, point, modules, precision=1e-11, **TABLE, **NO_VISUALIZE)"
   ],
   "metadata": {
    "collapsed": false,
    "ExecuteTime": {
     "end_time": "2024-04-17T18:13:02.761412Z",
     "start_time": "2024-04-17T18:12:58.607423Z"
    }
   },
   "id": "ba7f36ae1b226bb5",
   "outputs": [
    {
     "name": "stdout",
     "output_type": "stream",
     "text": [
      "\n",
      "LambdaOracul\n",
      "+----------------------------------------------+-------------+-------------+---------------------+--------------------+---------------------------------+------------------------+\n",
      "| Method name                                  |   StepCount |   CallCount |   GradientCallCount |   HessianCallCount | AbsolutePrecisionCount(0.001)   |   MinAbsolutePrecision |\n",
      "+==============================================+=============+=============+=====================+====================+=================================+========================+\n",
      "| Newton(3,Wolfe(0.1,0.9,eps=1e-11),eps=1e-11) |         999 |        1998 |                2997 |                999 | Undefined                       |              0.0140421 |\n",
      "+----------------------------------------------+-------------+-------------+---------------------+--------------------+---------------------------------+------------------------+\n",
      "| Wolfe(0.1,0.9,eps=1e-11)                     |          90 |          91 |                 181 |                 90 | Undefined                       |              0.0261483 |\n",
      "+----------------------------------------------+-------------+-------------+---------------------+--------------------+---------------------------------+------------------------+\n"
     ]
    }
   ],
   "execution_count": 12
  },
  {
   "cell_type": "code",
   "outputs": [
    {
     "data": {
      "text/plain": "[[[('no_show_value', array([ 99.98831771, -20.00779133])),\n   ('Method name', 'Newton(3,Wolfe(0.1,0.9,eps=1e-11),eps=1e-11)'),\n   ('StepCount', 999),\n   ('CallCount', 1998),\n   ('GradientCallCount', 2997),\n   ('HessianCallCount', 999),\n   ('AbsolutePrecisionCount(0.001)', 'Undefined'),\n   ('MinAbsolutePrecision', 0.014042100269553975)],\n  [('no_show_value', array([ 99.97873742, -20.01521958])),\n   ('Method name', 'Wolfe(0.1,0.9,eps=1e-11)'),\n   ('StepCount', 90),\n   ('CallCount', 91),\n   ('GradientCallCount', 181),\n   ('HessianCallCount', 90),\n   ('AbsolutePrecisionCount(0.001)', 'Undefined'),\n   ('MinAbsolutePrecision', 0.026148284878089588)]]]"
     },
     "execution_count": 8,
     "metadata": {},
     "output_type": "execute_result"
    }
   ],
   "source": [
    "result"
   ],
   "metadata": {
    "collapsed": false,
    "ExecuteTime": {
     "end_time": "2024-04-17T17:21:26.234362Z",
     "start_time": "2024-04-17T17:21:26.220370Z"
    }
   },
   "id": "1e24db293b71b32e",
   "execution_count": 8
  },
  {
   "cell_type": "code",
   "source": [
    "from src.v2.impl.oraculs import LambdaOracul\n",
    "wolfe = Wolfe(c1=0.1, c2=0.2, aprox_dec=1e-7, max_iters=3)\n",
    "rosenbrok = LambdaOracul(lambda x, y: (1 - np.float64(x))**2 + 100 * (np.float64(y) - np.float64(x)**2)**2)\n",
    "#bad_defined_absolute = SymbolOracul(1000 * (x - 100) ** 10 + 100 * (y + 20) ** 10, ['x', 'y'])\n",
    "bad_defined = LambdaOracul(lambda x, y: 1000 * (np.float64(x) - 100) ** 10 + 100 * (np.float64(y) + 20) ** 10)\n",
    "min_point = np.array([1, 1])\n",
    "metrics = [StepCount(), CallCount(), GradientCallCount(), HessianCallCount(),\n",
    "           AbsolutePrecisionCount(0.001, min_point),\n",
    "           MinAbsolutePrecision(min_point)]\n",
    "conditions = [StepCountCondition(1000), PrecisionCondition(0.00001)]\n",
    "#AbsolutePrecisionCondition(0.0001, min_point)            \n",
    "animations = [Animator()]\n",
    "\n",
    "modules = animations + metrics + conditions\n",
    "methods2 = [\n",
    "    NewtonWolfe(c1=0.1, c2=0.9, aprox_dec=1e-11, max_iters=20),\n",
    "    Newton(method=wolfe, aprox_dec=1e-7, learning_rate=0.5)\n",
    "]\n",
    "oraculs = [rosenbrok]\n",
    "point = np.array([-100, -200])\n",
    "result = Runner.run(methods2, oraculs, point, modules, precision=1e-5, **TABLE, **NO_VISUALIZE)"
   ],
   "metadata": {
    "collapsed": false,
    "ExecuteTime": {
     "end_time": "2024-04-17T18:13:09.638411Z",
     "start_time": "2024-04-17T18:13:09.486413Z"
    }
   },
   "id": "d8bfd3cf0538836a",
   "outputs": [
    {
     "name": "stdout",
     "output_type": "stream",
     "text": [
      "\n",
      "LambdaOracul\n",
      "+------------------------------------------------+-------------+-------------+---------------------+--------------------+---------------------------------+------------------------+\n",
      "| Method name                                    |   StepCount |   CallCount |   GradientCallCount |   HessianCallCount |   AbsolutePrecisionCount(0.001) |   MinAbsolutePrecision |\n",
      "+================================================+=============+=============+=====================+====================+=================================+========================+\n",
      "| Wolfe(0.1,0.9,eps=1e-11)                       |          19 |          28 |                  47 |                 19 |                              16 |            0           |\n",
      "+------------------------------------------------+-------------+-------------+---------------------+--------------------+---------------------------------+------------------------+\n",
      "| Newton(0.5,Wolfe(0.1,0.2,eps=1e-07),eps=1e-07) |           6 |          12 |                  18 |                  6 |                               4 |            6.17348e-15 |\n",
      "+------------------------------------------------+-------------+-------------+---------------------+--------------------+---------------------------------+------------------------+\n"
     ]
    }
   ],
   "execution_count": 13
  },
  {
   "metadata": {
    "ExecuteTime": {
     "end_time": "2024-04-17T17:21:26.390351Z",
     "start_time": "2024-04-17T17:21:26.376354Z"
    }
   },
   "cell_type": "code",
   "source": "",
   "id": "92e7bab276637e62",
   "outputs": [],
   "execution_count": 9
  }
 ],
 "metadata": {
  "kernelspec": {
   "display_name": "Python 3 (ipykernel)",
   "language": "python",
   "name": "python3"
  },
  "language_info": {
   "codemirror_mode": {
    "name": "ipython",
    "version": 3
   },
   "file_extension": ".py",
   "mimetype": "text/x-python",
   "name": "python",
   "nbconvert_exporter": "python",
   "pygments_lexer": "ipython3",
   "version": "3.9.10"
  }
 },
 "nbformat": 4,
 "nbformat_minor": 5
}
